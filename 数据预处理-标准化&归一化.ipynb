{
 "cells": [
  {
   "cell_type": "raw",
   "metadata": {},
   "source": [
    "如何对数据进行预处理，提高数据质量，是数据分析工作中常见的问题，本篇文章我们就和大家聊聊常见的数据标准化和案例；\n",
    "啥是数据标准化呢，大家都知道不同特征之间往往具有不同的量纲，比如一件内衣几百大洋，一套房子几百万，从总体衡量标准来看房子好像要贵点，\n",
    "但是平均下来呢，没单位的内衣要比每单位的房子贵好多，由此所造成的数值间的差异可能很大，在涉及空间计算或梯度下降法等情况下，\n",
    "不对其进行处理会影响到数据分析结果的准确性，为了消除特征之间量纲和取值范围差异可能会造成的影响，需要对数据进行标准化处理，也称作规范化处理\n",
    "本篇文章我们讲三种标准化数据方式，分别是：\n",
    "1.离差标准化数据\n",
    "2.标准差标准化数据\n",
    "3.小数定标标准化数据"
   ]
  },
  {
   "cell_type": "markdown",
   "metadata": {},
   "source": [
    "### 离差标准化数据"
   ]
  },
  {
   "cell_type": "raw",
   "metadata": {},
   "source": [
    "离差标准化是对原始数据的一种线性变换，结果是将原始数据的数值映射到[0,1]区间，转换公式如下：\n",
    "X1=（X-min)/（max-min）;X当前的数据；\n",
    "其中max为样本数据最大值，min为样本数据最小值，max-min为极差\n",
    "离差标准化保留了原始数据值之间的联系，是消除量纲和数据取值范围影响最简单的方法。"
   ]
  },
  {
   "cell_type": "markdown",
   "metadata": {},
   "source": [
    "### 离差标准化示例"
   ]
  },
  {
   "cell_type": "code",
   "execution_count": 6,
   "metadata": {},
   "outputs": [
    {
     "data": {
      "text/html": [
       "<div>\n",
       "<style scoped>\n",
       "    .dataframe tbody tr th:only-of-type {\n",
       "        vertical-align: middle;\n",
       "    }\n",
       "\n",
       "    .dataframe tbody tr th {\n",
       "        vertical-align: top;\n",
       "    }\n",
       "\n",
       "    .dataframe thead th {\n",
       "        text-align: right;\n",
       "    }\n",
       "</style>\n",
       "<table border=\"1\" class=\"dataframe\">\n",
       "  <thead>\n",
       "    <tr style=\"text-align: right;\">\n",
       "      <th></th>\n",
       "      <th>order_id</th>\n",
       "      <th>dishes_id</th>\n",
       "      <th>logicprn_name</th>\n",
       "      <th>parent_class_name</th>\n",
       "      <th>dishes_name</th>\n",
       "      <th>itemis_add</th>\n",
       "      <th>counts</th>\n",
       "      <th>amounts</th>\n",
       "      <th>cost</th>\n",
       "      <th>place_order_time</th>\n",
       "      <th>discount_amt</th>\n",
       "      <th>discount_reason</th>\n",
       "      <th>kick_back</th>\n",
       "      <th>add_inprice</th>\n",
       "      <th>add_info</th>\n",
       "      <th>bar_code</th>\n",
       "      <th>picture_file</th>\n",
       "      <th>emp_id</th>\n",
       "    </tr>\n",
       "    <tr>\n",
       "      <th>detail_id</th>\n",
       "      <th></th>\n",
       "      <th></th>\n",
       "      <th></th>\n",
       "      <th></th>\n",
       "      <th></th>\n",
       "      <th></th>\n",
       "      <th></th>\n",
       "      <th></th>\n",
       "      <th></th>\n",
       "      <th></th>\n",
       "      <th></th>\n",
       "      <th></th>\n",
       "      <th></th>\n",
       "      <th></th>\n",
       "      <th></th>\n",
       "      <th></th>\n",
       "      <th></th>\n",
       "      <th></th>\n",
       "    </tr>\n",
       "  </thead>\n",
       "  <tbody>\n",
       "    <tr>\n",
       "      <th>2956</th>\n",
       "      <td>417</td>\n",
       "      <td>610062</td>\n",
       "      <td>NaN</td>\n",
       "      <td>NaN</td>\n",
       "      <td>蒜蓉生蚝</td>\n",
       "      <td>0</td>\n",
       "      <td>1</td>\n",
       "      <td>49</td>\n",
       "      <td>NaN</td>\n",
       "      <td>2016/8/111:05:00</td>\n",
       "      <td>NaN</td>\n",
       "      <td>NaN</td>\n",
       "      <td>NaN</td>\n",
       "      <td>0</td>\n",
       "      <td>NaN</td>\n",
       "      <td>NaN</td>\n",
       "      <td>caipu/104001.jpg</td>\n",
       "      <td>1442</td>\n",
       "    </tr>\n",
       "    <tr>\n",
       "      <th>2958</th>\n",
       "      <td>417</td>\n",
       "      <td>609957</td>\n",
       "      <td>NaN</td>\n",
       "      <td>NaN</td>\n",
       "      <td>蒙古烤羊腿</td>\n",
       "      <td>0</td>\n",
       "      <td>1</td>\n",
       "      <td>48</td>\n",
       "      <td>NaN</td>\n",
       "      <td>2016/8/111:07:00</td>\n",
       "      <td>NaN</td>\n",
       "      <td>NaN</td>\n",
       "      <td>NaN</td>\n",
       "      <td>0</td>\n",
       "      <td>NaN</td>\n",
       "      <td>NaN</td>\n",
       "      <td>caipu/202003.jpg</td>\n",
       "      <td>1442</td>\n",
       "    </tr>\n",
       "    <tr>\n",
       "      <th>2961</th>\n",
       "      <td>417</td>\n",
       "      <td>609950</td>\n",
       "      <td>NaN</td>\n",
       "      <td>NaN</td>\n",
       "      <td>大蒜苋菜</td>\n",
       "      <td>0</td>\n",
       "      <td>1</td>\n",
       "      <td>30</td>\n",
       "      <td>NaN</td>\n",
       "      <td>2016/8/111:07:00</td>\n",
       "      <td>NaN</td>\n",
       "      <td>NaN</td>\n",
       "      <td>NaN</td>\n",
       "      <td>0</td>\n",
       "      <td>NaN</td>\n",
       "      <td>NaN</td>\n",
       "      <td>caipu/303001.jpg</td>\n",
       "      <td>1442</td>\n",
       "    </tr>\n",
       "    <tr>\n",
       "      <th>2966</th>\n",
       "      <td>417</td>\n",
       "      <td>610038</td>\n",
       "      <td>NaN</td>\n",
       "      <td>NaN</td>\n",
       "      <td>芝麻烤紫菜</td>\n",
       "      <td>0</td>\n",
       "      <td>1</td>\n",
       "      <td>25</td>\n",
       "      <td>NaN</td>\n",
       "      <td>2016/8/111:11:00</td>\n",
       "      <td>NaN</td>\n",
       "      <td>NaN</td>\n",
       "      <td>NaN</td>\n",
       "      <td>0</td>\n",
       "      <td>NaN</td>\n",
       "      <td>NaN</td>\n",
       "      <td>caipu/105002.jpg</td>\n",
       "      <td>1442</td>\n",
       "    </tr>\n",
       "    <tr>\n",
       "      <th>2968</th>\n",
       "      <td>417</td>\n",
       "      <td>610003</td>\n",
       "      <td>NaN</td>\n",
       "      <td>NaN</td>\n",
       "      <td>蒜香包</td>\n",
       "      <td>0</td>\n",
       "      <td>1</td>\n",
       "      <td>13</td>\n",
       "      <td>NaN</td>\n",
       "      <td>2016/8/111:11:00</td>\n",
       "      <td>NaN</td>\n",
       "      <td>NaN</td>\n",
       "      <td>NaN</td>\n",
       "      <td>0</td>\n",
       "      <td>NaN</td>\n",
       "      <td>NaN</td>\n",
       "      <td>caipu/503002.jpg</td>\n",
       "      <td>1442</td>\n",
       "    </tr>\n",
       "  </tbody>\n",
       "</table>\n",
       "</div>"
      ],
      "text/plain": [
       "           order_id  dishes_id  logicprn_name  parent_class_name dishes_name  \\\n",
       "detail_id                                                                      \n",
       "2956            417     610062            NaN                NaN        蒜蓉生蚝   \n",
       "2958            417     609957            NaN                NaN       蒙古烤羊腿   \n",
       "2961            417     609950            NaN                NaN        大蒜苋菜   \n",
       "2966            417     610038            NaN                NaN       芝麻烤紫菜   \n",
       "2968            417     610003            NaN                NaN         蒜香包   \n",
       "\n",
       "           itemis_add  counts  amounts  cost  place_order_time  discount_amt  \\\n",
       "detail_id                                                                      \n",
       "2956                0       1       49   NaN  2016/8/111:05:00           NaN   \n",
       "2958                0       1       48   NaN  2016/8/111:07:00           NaN   \n",
       "2961                0       1       30   NaN  2016/8/111:07:00           NaN   \n",
       "2966                0       1       25   NaN  2016/8/111:11:00           NaN   \n",
       "2968                0       1       13   NaN  2016/8/111:11:00           NaN   \n",
       "\n",
       "           discount_reason  kick_back  add_inprice  add_info  bar_code  \\\n",
       "detail_id                                                                \n",
       "2956                   NaN        NaN            0       NaN       NaN   \n",
       "2958                   NaN        NaN            0       NaN       NaN   \n",
       "2961                   NaN        NaN            0       NaN       NaN   \n",
       "2966                   NaN        NaN            0       NaN       NaN   \n",
       "2968                   NaN        NaN            0       NaN       NaN   \n",
       "\n",
       "               picture_file  emp_id  \n",
       "detail_id                            \n",
       "2956       caipu/104001.jpg    1442  \n",
       "2958       caipu/202003.jpg    1442  \n",
       "2961       caipu/303001.jpg    1442  \n",
       "2966       caipu/105002.jpg    1442  \n",
       "2968       caipu/503002.jpg    1442  "
      ]
     },
     "execution_count": 6,
     "metadata": {},
     "output_type": "execute_result"
    }
   ],
   "source": [
    "import pandas as pd\n",
    "import numpy as np\n",
    "f = open('../detail.csv')\n",
    "detail = pd.read_csv(f,index_col=0,encoding='utf-8')\n",
    "detail.head()"
   ]
  },
  {
   "cell_type": "code",
   "execution_count": 8,
   "metadata": {},
   "outputs": [],
   "source": [
    "#自定义离差标准化函数\n",
    "def MinMaxScale(data):\n",
    "    data = (data-data.min()) / (data.max() - data.min())\n",
    "    return data"
   ]
  },
  {
   "cell_type": "code",
   "execution_count": 9,
   "metadata": {},
   "outputs": [],
   "source": [
    "#对菜品订单表售价和销量做离差标准化\n",
    "data1 = MinMaxScale(detail['counts'])\n",
    "data2 = MinMaxScale(detail['amounts'])\n",
    "\n",
    "data3 = pd.concat([data1,data2],axis=1)"
   ]
  },
  {
   "cell_type": "code",
   "execution_count": 11,
   "metadata": {},
   "outputs": [
    {
     "name": "stdout",
     "output_type": "stream",
     "text": [
      "离差标准化之前销量和售价数据为： \n",
      "            counts  amounts\n",
      "detail_id                 \n",
      "2956            1       49\n",
      "2958            1       48\n",
      "2961            1       30\n",
      "2966            1       25\n",
      "2968            1       13\n"
     ]
    }
   ],
   "source": [
    "print('离差标准化之前销量和售价数据为： \\n',detail[['counts','amounts']].head())"
   ]
  },
  {
   "cell_type": "code",
   "execution_count": 13,
   "metadata": {},
   "outputs": [
    {
     "name": "stdout",
     "output_type": "stream",
     "text": [
      "离差标准化之后销量和售价数据为：\n",
      "            counts   amounts\n",
      "detail_id                  \n",
      "2956          0.0  0.271186\n",
      "2958          0.0  0.265537\n",
      "2961          0.0  0.163842\n",
      "2966          0.0  0.135593\n",
      "2968          0.0  0.067797\n"
     ]
    }
   ],
   "source": [
    "print('离差标准化之后销量和售价数据为：\\n',data3.head())"
   ]
  },
  {
   "cell_type": "markdown",
   "metadata": {},
   "source": [
    "### 标准差标准化数据"
   ]
  },
  {
   "cell_type": "raw",
   "metadata": {},
   "source": [
    "标准差标准化也叫零均值标准化或z分数标准化，是当前使用最广泛的数据标准化方法，经过该方法处理的数据均值为0，标准差为1，转换公式如下：\n",
    "z=(x-μ)/σ\n",
    "x为每一具体分数或每个数据值\n",
    "μ为原始数据的平均数\n",
    "σ 为原始数据的标准差\n",
    "z为z分数(z-score)"
   ]
  },
  {
   "cell_type": "markdown",
   "metadata": {},
   "source": [
    "### 标准差标准化示例"
   ]
  },
  {
   "cell_type": "code",
   "execution_count": 14,
   "metadata": {},
   "outputs": [],
   "source": [
    "#自定义标准差标准化函数\n",
    "def StandardScaler(data):\n",
    "    data = (data - data.mean()) / data.std()\n",
    "    \n",
    "    return data"
   ]
  },
  {
   "cell_type": "code",
   "execution_count": 15,
   "metadata": {},
   "outputs": [],
   "source": [
    "#对菜品订单表和销量做标准化\n",
    "data4 = StandardScaler(detail['counts'])\n",
    "data5 = StandardScaler(detail['amounts'])\n",
    "data6 = pd.concat([data4,data5],axis=1)"
   ]
  },
  {
   "cell_type": "code",
   "execution_count": 16,
   "metadata": {},
   "outputs": [
    {
     "name": "stdout",
     "output_type": "stream",
     "text": [
      "标准差标准化之前销量和售价数据为：\n",
      "            counts  amounts\n",
      "detail_id                 \n",
      "2956            1       49\n",
      "2958            1       48\n",
      "2961            1       30\n",
      "2966            1       25\n",
      "2968            1       13\n"
     ]
    }
   ],
   "source": [
    "print('标准差标准化之前销量和售价数据为：\\n',detail[['counts','amounts']].head())"
   ]
  },
  {
   "cell_type": "code",
   "execution_count": 17,
   "metadata": {},
   "outputs": [
    {
     "name": "stdout",
     "output_type": "stream",
     "text": [
      "标准差标准化之后销量和售价的数据为：\n",
      "              counts   amounts\n",
      "detail_id                    \n",
      "2956      -0.177571  0.116671\n",
      "2958      -0.177571  0.088751\n",
      "2961      -0.177571 -0.413826\n",
      "2966      -0.177571 -0.553431\n",
      "2968      -0.177571 -0.888482\n"
     ]
    }
   ],
   "source": [
    "print('标准差标准化之后销量和售价的数据为：\\n',data6.head())"
   ]
  },
  {
   "cell_type": "markdown",
   "metadata": {},
   "source": [
    "### 小数定标标准化数据"
   ]
  },
  {
   "cell_type": "raw",
   "metadata": {},
   "source": [
    "通过移动数据的小数位数，将数据映射到区间[-1,1]，移动的小数位数取决于数据绝对值的最大值，转换公式如下：\n",
    " x'=x/(10^j)； j为满足条件的最小整数"
   ]
  },
  {
   "cell_type": "markdown",
   "metadata": {},
   "source": [
    "### 小数定标标准化示例"
   ]
  },
  {
   "cell_type": "code",
   "execution_count": 20,
   "metadata": {},
   "outputs": [],
   "source": [
    "#自定义小数定标标准化函数\n",
    "import numpy as np\n",
    "def DecimalScaler(data):\n",
    "    data = data / 10 ** np.ceil(np.log10(data.abs().max()))\n",
    "    return data"
   ]
  },
  {
   "cell_type": "code",
   "execution_count": 21,
   "metadata": {},
   "outputs": [],
   "source": [
    "#对菜品订单表售价和销量做标准化\n",
    "data7 = DecimalScaler(detail['counts'])\n",
    "data8 = DecimalScaler(detail['amounts'])\n",
    "data9 = pd.concat([data7,data8],axis=1)"
   ]
  },
  {
   "cell_type": "code",
   "execution_count": 22,
   "metadata": {},
   "outputs": [
    {
     "name": "stdout",
     "output_type": "stream",
     "text": [
      "小数定标标准化之前的销量和售价数据: \n",
      "            counts  amounts\n",
      "detail_id                 \n",
      "2956            1       49\n",
      "2958            1       48\n",
      "2961            1       30\n",
      "2966            1       25\n",
      "2968            1       13\n"
     ]
    }
   ],
   "source": [
    "print('小数定标标准化之前的销量和售价数据: \\n',detail[['counts','amounts']].head())"
   ]
  },
  {
   "cell_type": "code",
   "execution_count": 23,
   "metadata": {},
   "outputs": [
    {
     "name": "stdout",
     "output_type": "stream",
     "text": [
      "小数定标标准化之后的销量和售价数据：\n",
      "            counts  amounts\n",
      "detail_id                 \n",
      "2956          0.1    0.049\n",
      "2958          0.1    0.048\n",
      "2961          0.1    0.030\n",
      "2966          0.1    0.025\n",
      "2968          0.1    0.013\n"
     ]
    }
   ],
   "source": [
    "print('小数定标标准化之后的销量和售价数据：\\n',data9.head())"
   ]
  },
  {
   "cell_type": "markdown",
   "metadata": {},
   "source": [
    "### 补充：归一化"
   ]
  },
  {
   "cell_type": "raw",
   "metadata": {},
   "source": [
    "原文：https://blog.csdn.net/pipisorry/article/details/52247379 \n",
    "\n",
    "数据的标准化（normalization）是将数据按比例缩放，使之落入一个小的特定区间。在某些比较和评价的指标处理中经常会用到，去除数据的单位限制，\n",
    "将其转化为无量纲的纯数值，便于不同单位或量级的指标能够进行比较和加权。\n",
    "\n",
    "目前数据标准化方法有多种，归结起来可以分为直线型方法(如极值法、标准差法)、折线型方法(如三折线法)、曲线型方法(如半正态性分布)。不同的标准化方法，\n",
    "对系统的评价结果会产生不同的影响，然而不幸的是，在数据标准化方法的选择上，还没有通用的法则可以遵循。\n",
    "\n",
    "其中最典型的就是数据的归一化处理，即将数据统一映射到[0,1]区间上。\n"
   ]
  },
  {
   "cell_type": "raw",
   "metadata": {},
   "source": [
    "归一化目标：\n",
    "1 把数变为（0，1）之间的小数\n",
    "    主要是为了数据处理方便提出来的，把数据映射到0～1范围之内处理，更加便捷快速，应该归到数字信号处理范畴之内。\n",
    "2 把有量纲表达式变为无量纲表达式\n",
    "    归一化是一种简化计算的方式，即将有量纲的表达式，经过变换，化为无量纲的表达式，成为纯量。 \n",
    "    比如，复数阻抗可以归一化书写：Z = R + jωL = R(1 + jωL/R) ，复数部分变成了纯数量了，没有量纲。\n",
    "    另外，微波之中也就是电路分析、信号系统、电磁波传输等，有很多运算都可以如此处理，既保证了运算的便捷，又能凸现出物理量的本质含义。"
   ]
  },
  {
   "cell_type": "raw",
   "metadata": {},
   "source": [
    "归一化的好处：\n",
    "    1.提升模型的收揽速度\n",
    "    2.提升模型的精度"
   ]
  },
  {
   "cell_type": "code",
   "execution_count": null,
   "metadata": {},
   "outputs": [],
   "source": []
  }
 ],
 "metadata": {
  "kernelspec": {
   "display_name": "Python 3",
   "language": "python",
   "name": "python3"
  },
  "language_info": {
   "codemirror_mode": {
    "name": "ipython",
    "version": 3
   },
   "file_extension": ".py",
   "mimetype": "text/x-python",
   "name": "python",
   "nbconvert_exporter": "python",
   "pygments_lexer": "ipython3",
   "version": "3.7.0"
  }
 },
 "nbformat": 4,
 "nbformat_minor": 2
}
