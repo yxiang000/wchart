{
 "cells": [
  {
   "cell_type": "code",
   "execution_count": 4,
   "metadata": {},
   "outputs": [
    {
     "data": {
      "text/plain": [
       "'\\nnp.save(file,arr,allow_pickle=True,fix_imports=True)\\n    file:为要保存的文件名称，需要指定文件保存的路径\\n    arr：为需要保存的数组，拓展名.npy为自动添加\\n'"
      ]
     },
     "execution_count": 4,
     "metadata": {},
     "output_type": "execute_result"
    }
   ],
   "source": [
    "#读/写文件\n",
    "#numpy的文件读写主要有二进制的文件读写和文件列表形式的数据读/写俩种方式\n",
    "#save函数以二进制的格式保存数据\n",
    "#load函数从二进制的文件中读取数据\n",
    "#save函数的语法格式如下：\n",
    "\"\"\"\n",
    "np.save(file,arr,allow_pickle=True,fix_imports=True)\n",
    "    file:为要保存的文件名称，需要指定文件保存的路径\n",
    "    arr：为需要保存的数组，拓展名.npy为自动添加\n",
    "\"\"\""
   ]
  },
  {
   "cell_type": "code",
   "execution_count": 5,
   "metadata": {},
   "outputs": [
    {
     "name": "stdout",
     "output_type": "stream",
     "text": [
      "保存的数组为：\n",
      " [[ 0  1  2  3  4  5  6  7  8  9]\n",
      " [10 11 12 13 14 15 16 17 18 19]\n",
      " [20 21 22 23 24 25 26 27 28 29]\n",
      " [30 31 32 33 34 35 36 37 38 39]\n",
      " [40 41 42 43 44 45 46 47 48 49]\n",
      " [50 51 52 53 54 55 56 57 58 59]\n",
      " [60 61 62 63 64 65 66 67 68 69]\n",
      " [70 71 72 73 74 75 76 77 78 79]\n",
      " [80 81 82 83 84 85 86 87 88 89]\n",
      " [90 91 92 93 94 95 96 97 98 99]]\n"
     ]
    }
   ],
   "source": [
    "#二进制数据存储\n",
    "import numpy as np\n",
    "arr = np.arange(100).reshape(10,10)  #创建一个数组\n",
    "np.save('../tmp/save_arr',arr)\n",
    "print('保存的数组为：\\n',arr)"
   ]
  },
  {
   "cell_type": "code",
   "execution_count": 7,
   "metadata": {},
   "outputs": [
    {
     "name": "stdout",
     "output_type": "stream",
     "text": [
      "保存的数组1为：\n",
      " [[1 2 3]\n",
      " [4 5 6]]\n",
      "保存的数组2为：\n",
      " [0.  0.1 0.2 0.3 0.4 0.5 0.6 0.7 0.8 0.9]\n"
     ]
    }
   ],
   "source": [
    "#如果将多个数组保存到一个文件中，可以使用savez函数，其文件的拓展名为.npz\n",
    "#多个数组存储\n",
    "arr1 = np.array([[1,2,3],[4,5,6]])\n",
    "arr2 = np.arange(0,1.0,0.1)\n",
    "np.savez('../tmp/savez_arr',arr1,arr2)\n",
    "print('保存的数组1为：\\n',arr1)\n",
    "print('保存的数组2为：\\n',arr2)"
   ]
  },
  {
   "cell_type": "code",
   "execution_count": 9,
   "metadata": {},
   "outputs": [
    {
     "name": "stdout",
     "output_type": "stream",
     "text": [
      "读取到的数组为：\n",
      " [[ 0  1  2  3  4  5  6  7  8  9]\n",
      " [10 11 12 13 14 15 16 17 18 19]\n",
      " [20 21 22 23 24 25 26 27 28 29]\n",
      " [30 31 32 33 34 35 36 37 38 39]\n",
      " [40 41 42 43 44 45 46 47 48 49]\n",
      " [50 51 52 53 54 55 56 57 58 59]\n",
      " [60 61 62 63 64 65 66 67 68 69]\n",
      " [70 71 72 73 74 75 76 77 78 79]\n",
      " [80 81 82 83 84 85 86 87 88 89]\n",
      " [90 91 92 93 94 95 96 97 98 99]]\n"
     ]
    }
   ],
   "source": [
    "#二进制文件获取\n",
    "#读取含有单个数组的文件\n",
    "loaded_data = np.load('../tmp/save_arr.npy')\n",
    "print('读取到的数组为：\\n',loaded_data)"
   ]
  },
  {
   "cell_type": "code",
   "execution_count": 10,
   "metadata": {},
   "outputs": [
    {
     "name": "stdout",
     "output_type": "stream",
     "text": [
      "读取的数组为1为：\n",
      " [[1 2 3]\n",
      " [4 5 6]]\n",
      "读取的数组为2为：\n",
      " [0.  0.1 0.2 0.3 0.4 0.5 0.6 0.7 0.8 0.9]\n"
     ]
    }
   ],
   "source": [
    "#读取含有多个数组的文件\n",
    "loaded_data1 = np.load('../tmp/savez_arr.npz')\n",
    "print('读取的数组为1为：\\n',loaded_data1['arr_0'])\n",
    "print('读取的数组为2为：\\n',loaded_data1['arr_1'])"
   ]
  },
  {
   "cell_type": "code",
   "execution_count": 11,
   "metadata": {},
   "outputs": [],
   "source": [
    "#注意：存储时可以省略扩展名，但读取时不能省略扩展名"
   ]
  },
  {
   "cell_type": "markdown",
   "metadata": {},
   "source": [
    "在实际的数据分析中，更多的使用文本格式的数据，如txt或CSV格式，因此经常使用savetxt函数，loadtxt函数，genfromtxt函数\n",
    "执行文本格式数据的读取任务"
   ]
  },
  {
   "cell_type": "code",
   "execution_count": 12,
   "metadata": {},
   "outputs": [
    {
     "data": {
      "text/plain": [
       "\"\\nsavetxt函数可以将数组写到某种分隔符隔开的文本文件中，语法如下：\\nnp.savetxt(fname,X,fmt='%.18e',delimiter=' ',newline='\\n',header='',footer='',comments='# ')\\n    fname：为文件名\\n    X：为数组数据\\n    delimiter:数据分隔符\\nloadtxt函数执行的是相反的操作，即把文件加载到一个二维数组中\\ngenfromtxt函数和loadtxt函数相似，不过他面向的是结构化数组和缺失数组，通常使用三个参数：\\n    1：存放数据的文件名fname\\n    2：用于分割字符参数‘delimiter’\\n    3:是否含有列标题参数‘names’\\n\""
      ]
     },
     "execution_count": 12,
     "metadata": {},
     "output_type": "execute_result"
    }
   ],
   "source": [
    "\"\"\"\n",
    "savetxt函数可以将数组写到某种分隔符隔开的文本文件中，语法如下：\n",
    "np.savetxt(fname,X,fmt='%.18e',delimiter=' ',newline='\\n',header='',footer='',comments='# ')\n",
    "    fname：为文件名\n",
    "    X：为数组数据\n",
    "    fmt:代表数据存储类型，%d代表整数\n",
    "    delimiter:数据分隔符\n",
    "loadtxt函数执行的是相反的操作，即把文件加载到一个二维数组中\n",
    "genfromtxt函数和loadtxt函数相似，不过他面向的是结构化数组和缺失数组，通常使用三个参数：\n",
    "    1：存放数据的文件名fname\n",
    "    2：用于分割字符参数‘delimiter’\n",
    "    3:是否含有列标题参数‘names’\n",
    "\"\"\""
   ]
  },
  {
   "cell_type": "code",
   "execution_count": 13,
   "metadata": {},
   "outputs": [
    {
     "name": "stdout",
     "output_type": "stream",
     "text": [
      "读取的数组为：\n",
      " [[ 0.  0.  1.  1.  2.  2.]\n",
      " [ 3.  3.  4.  4.  5.  5.]\n",
      " [ 6.  6.  7.  7.  8.  8.]\n",
      " [ 9.  9. 10. 10. 11. 11.]]\n",
      "读取的数组为：\n",
      " [[ 0.  0.  1.  1.  2.  2.]\n",
      " [ 3.  3.  4.  4.  5.  5.]\n",
      " [ 6.  6.  7.  7.  8.  8.]\n",
      " [ 9.  9. 10. 10. 11. 11.]]\n"
     ]
    }
   ],
   "source": [
    "#文件存储与读取\n",
    "arr = np.arange(0,12,0.5).reshape(4,-1)\n",
    "np.savetxt('../tmp/arr.txt',arr,fmt=\"%d\",delimiter=\",\")\n",
    "#注意：读入的时候也需要指定分隔符\n",
    "loaded_data = np.loadtxt('../tmp/arr.txt',delimiter=\",\")\n",
    "print('读取的数组为：\\n',loaded_data)\n",
    "#使用genfromtxt函数读取数组\n",
    "loaded_data = np.genfromtxt('../tmp/arr.txt',delimiter=\",\")\n",
    "print('读取的数组为：\\n',loaded_data)"
   ]
  },
  {
   "cell_type": "raw",
   "metadata": {},
   "source": [
    "#使用函数进行简单的统计分析\n",
    "\"\"\"\n",
    "numpy的排序方式主要可以概括为直接排序和间接排序俩种\n",
    "直接排序指对数值直接进行排序\n",
    "间接排序是指根据一个或多个键对数据集进行排序\n",
    "在numpy中，直接排序经常使用sort函数，间接排序经常使用argsort函数和lexsort函数\n",
    "\"\"\""
   ]
  },
  {
   "cell_type": "code",
   "execution_count": 14,
   "metadata": {},
   "outputs": [
    {
     "name": "stdout",
     "output_type": "stream",
     "text": [
      "创建的数组为：\n",
      " [3 2 8 2 9 9 6 6 9 4]\n",
      "排序后的数组为：\n",
      " [2 2 3 4 6 6 8 9 9 9]\n"
     ]
    }
   ],
   "source": [
    "# 使用sort函数进行排序\n",
    "arr = np.random.randint(1,10,size=10)  #生成随机数组\n",
    "print('创建的数组为：\\n',arr)\n",
    "#直接排序\n",
    "arr.sort()\n",
    "print('排序后的数组为：\\n',arr)"
   ]
  },
  {
   "cell_type": "code",
   "execution_count": 15,
   "metadata": {},
   "outputs": [
    {
     "name": "stdout",
     "output_type": "stream",
     "text": [
      "创建的数组为：\n",
      " [[2 8 6]\n",
      " [9 5 2]\n",
      " [2 2 6]]\n",
      "排序后的数组为：\n",
      " [[2 6 8]\n",
      " [2 5 9]\n",
      " [2 2 6]]\n",
      "排序后数组为：\n",
      " [[2 2 6]\n",
      " [2 5 8]\n",
      " [2 6 9]]\n"
     ]
    }
   ],
   "source": [
    "#生成3行3列的随机数组\n",
    "arr = np.random.randint(1,10,size=(3,3))\n",
    "print('创建的数组为：\\n',arr)\n",
    "arr.sort(axis=1) #沿着横轴排序\n",
    "print('排序后的数组为：\\n',arr)\n",
    "#沿着纵轴排序\n",
    "arr.sort(axis=0)\n",
    "print('排序后数组为：\\n',arr)"
   ]
  },
  {
   "cell_type": "code",
   "execution_count": null,
   "metadata": {},
   "outputs": [],
   "source": [
    "#使用argsort函数和lexsort函数，可以在给定的一个或者多个键时，\n",
    "#得到一个由整数构成的索引数组，索引值表示数据在新的序列中的位置"
   ]
  },
  {
   "cell_type": "code",
   "execution_count": 16,
   "metadata": {},
   "outputs": [
    {
     "name": "stdout",
     "output_type": "stream",
     "text": [
      "创建的数组为：\n",
      " [2 3 6 8 0 7 1]\n",
      "排序后数组为：\n",
      " [4 6 0 1 2 5 3]\n"
     ]
    }
   ],
   "source": [
    "#使用argsort函数进行排序\n",
    "arr = np.array([2,3,6,8,0,7,1])\n",
    "print('创建的数组为：\\n',arr)\n",
    "print('排序后数组为：\\n',arr.argsort())   #返回值为重新排序值的下标"
   ]
  },
  {
   "cell_type": "code",
   "execution_count": 17,
   "metadata": {},
   "outputs": [
    {
     "name": "stdout",
     "output_type": "stream",
     "text": [
      "排序后数组为：\n",
      " [(4, 20, 100), (5, 10, 200), (2, 30, 300), (3, 50, 400), (6, 40, 600)]\n"
     ]
    }
   ],
   "source": [
    "#lexsort函数可以一次性对满足多个键的数组执行间接排序\n",
    "#使用lexsort函数进行排序\n",
    "a = np.array([3,2,6,4,5])\n",
    "b =np.array([50,30,40,20,10])\n",
    "c = np.array([400,300,600,100,200])\n",
    "d = np.lexsort((a,b,c))  #lexsort函数只接受一个参数，即(a,b,c)\n",
    "#多个键排序时是按照最后一个传入数据计算的\n",
    "print('排序后数组为：\\n',list(zip(a[d],b[d],c[d])))"
   ]
  },
  {
   "cell_type": "code",
   "execution_count": 18,
   "metadata": {},
   "outputs": [
    {
     "data": {
      "text/plain": [
       "'\\n在统计分析的工作中，难免会出现“脏”数据的情况，重复数据就是脏数据的情况之一\\n在numpy中可以使用unique函数找出数组中的唯一值并返回已排序的结果\\n'"
      ]
     },
     "execution_count": 18,
     "metadata": {},
     "output_type": "execute_result"
    }
   ],
   "source": [
    "#去重和重复数据\n",
    "\"\"\"\n",
    "在统计分析的工作中，难免会出现“脏”数据的情况，重复数据就是脏数据的情况之一\n",
    "在numpy中可以使用unique函数找出数组中的唯一值并返回已排序的结果\n",
    "\"\"\""
   ]
  },
  {
   "cell_type": "code",
   "execution_count": 20,
   "metadata": {},
   "outputs": [
    {
     "name": "stdout",
     "output_type": "stream",
     "text": [
      "创建的数组为：\n",
      " ['小明' '小黄' '小花' '小明' '小花' '小兰' '小白']\n",
      "去重后的数组为：\n",
      " ['小兰' '小明' '小白' '小花' '小黄']\n"
     ]
    }
   ],
   "source": [
    "#数组内数据去重\n",
    "names = np.array(['小明','小黄','小花','小明','小花','小兰','小白'])\n",
    "print('创建的数组为：\\n',names)\n",
    "print('去重后的数组为：\\n',np.unique(names))"
   ]
  },
  {
   "cell_type": "code",
   "execution_count": 23,
   "metadata": {},
   "outputs": [
    {
     "name": "stdout",
     "output_type": "stream",
     "text": [
      "创建的数组为：\n",
      " [1 2 3 3 4 3 5 6 5 6 7 8 9]\n",
      "去重后的数组为： [1 2 3 4 5 6 7 8 9]\n"
     ]
    }
   ],
   "source": [
    "#创建数值型数据\n",
    "inits = np.array([1,2,3,3,4,3,5,6,5,6,7,8,9])\n",
    "print('创建的数组为：\\n',inits)\n",
    "print('去重后的数组为：',np.unique(inits))"
   ]
  },
  {
   "cell_type": "code",
   "execution_count": null,
   "metadata": {},
   "outputs": [],
   "source": [
    "\"\"\"\n",
    "另一种情况，在统计分析中也经常遇到，及需要把一个数据重复若干次\n",
    "在numpy中主要使用tile函数和repeat函数实现数据重复\n",
    "numpy.tile(A,reps)\n",
    "    A:指定重复的数组\n",
    "    reps：指定重复的次数\n",
    "repeat函数格式如下：\n",
    "numpy.repeat(a,repeats,axis=None)\n",
    "    a:指定需要重复的数组元素\n",
    "    repeats：指定重复次数\n",
    "    axis：指定沿着哪个轴进行重复\n",
    "    \n",
    "#这俩个函数的主要区别在于tile函数是对数组进行重复操作，repeat函数是对数组中的每个元素进行重复操作\n",
    "\"\"\""
   ]
  },
  {
   "cell_type": "code",
   "execution_count": 24,
   "metadata": {},
   "outputs": [
    {
     "name": "stdout",
     "output_type": "stream",
     "text": [
      "创建的数组为：\n",
      " [0 1 2 3 4]\n",
      "重复后的数组为：\n",
      " [0 1 2 3 4 0 1 2 3 4 0 1 2 3 4]\n"
     ]
    }
   ],
   "source": [
    "#使用tile函数实现数据重复\n",
    "arr = np.arange(5)\n",
    "print('创建的数组为：\\n',arr)\n",
    "print('重复后的数组为：\\n',np.tile(arr,3))  #对数组进行重复"
   ]
  },
  {
   "cell_type": "code",
   "execution_count": 26,
   "metadata": {},
   "outputs": [
    {
     "name": "stdout",
     "output_type": "stream",
     "text": [
      "创建的数组为：\n",
      " [[5 3 1]\n",
      " [2 8 0]\n",
      " [4 2 7]]\n",
      "重复后数组为：\n",
      " [[5 3 1]\n",
      " [5 3 1]\n",
      " [2 8 0]\n",
      " [2 8 0]\n",
      " [4 2 7]\n",
      " [4 2 7]]\n",
      "重复后数组为：\n",
      " [[5 5 3 3 1 1]\n",
      " [2 2 8 8 0 0]\n",
      " [4 4 2 2 7 7]]\n"
     ]
    }
   ],
   "source": [
    "#使用repeat函数实现数据重复\n",
    "arr = np.random.randint(0,10,size=(3,3))\n",
    "print('创建的数组为：\\n',arr)\n",
    "print('重复后数组为：\\n',arr.repeat(2,axis=0)) #按行进行元素重复\n",
    "print('重复后数组为：\\n',arr.repeat(2,axis=1)) #按列进行元素重复"
   ]
  },
  {
   "cell_type": "code",
   "execution_count": 29,
   "metadata": {},
   "outputs": [
    {
     "name": "stdout",
     "output_type": "stream",
     "text": [
      "创建的数组为：\n",
      " [[ 0  1  2  3  4]\n",
      " [ 5  6  7  8  9]\n",
      " [10 11 12 13 14]\n",
      " [15 16 17 18 19]]\n",
      "数组的和为： 190\n",
      "数组纵轴的和为： [30 34 38 42 46]\n",
      "数组的横轴的和为： [10 35 60 85]\n",
      "数组的均值为： 9.5\n",
      "数组纵轴的均值为： [ 7.5  8.5  9.5 10.5 11.5]\n",
      "数组横轴的均值为： [ 2.  7. 12. 17.]\n",
      "数组的标准差为： 5.766281297335398\n",
      "数组的方差为： 33.25\n",
      "数组的最小值为： 0\n",
      "数组的最大值为： 19\n",
      "数组最小元素的索引为： 0\n",
      "数组最大元素的索引为： 19\n"
     ]
    }
   ],
   "source": [
    "#常用的统计函数\n",
    "arr = np.arange(20).reshape(4,5)\n",
    "print('创建的数组为：\\n',arr)\n",
    "print('数组的和为：',np.sum(arr))   #计算数组的和\n",
    "print('数组纵轴的和为：',arr.sum(axis=0))  #沿着纵轴求和\n",
    "print('数组的横轴的和为：',arr.sum(axis=1))  #沿着横轴求和\n",
    "print('数组的均值为：',np.mean(arr))  #计算数组均值\n",
    "print('数组纵轴的均值为：',arr.mean(axis=0))  #沿着纵轴计算数组均值\n",
    "print('数组横轴的均值为：',arr.mean(axis=1))  #沿着横轴计算数组均值\n",
    "print('数组的标准差为：',np.std(arr))  #计算数组的标准差\n",
    "print('数组的方差为：',np.var(arr))  #就算数组方差\n",
    "print('数组的最小值为：',np.min(arr))  #计算数组的最小值\n",
    "print('数组的最大值为：',np.max(arr))  #计算数组的最大值\n",
    "print('数组最小元素的索引为：',np.argmin(arr)) #返回数组最小元素的索引\n",
    "print('数组最大元素的索引为：',np.argmax(arr))  #返回数组最大元素的索引"
   ]
  },
  {
   "cell_type": "raw",
   "metadata": {},
   "source": [
    "以上函数的计算均为聚合计算，直接显示计算的最终结果\n",
    "在numpy中cumsum和cumprod函数采用不聚合计算\n",
    "产生一个由中间结果组成的数组"
   ]
  },
  {
   "cell_type": "code",
   "execution_count": 30,
   "metadata": {},
   "outputs": [
    {
     "name": "stdout",
     "output_type": "stream",
     "text": [
      "创建的数组为： [2 3 4 5 6 7 8 9]\n",
      "数组元素的累计和为：\n",
      " [ 2  5  9 14 20 27 35 44]\n",
      "数组元素的累计积为：\n",
      " [     2      6     24    120    720   5040  40320 362880]\n"
     ]
    }
   ],
   "source": [
    "arr= np.arange(2,10)\n",
    "print('创建的数组为：',arr)\n",
    "print('数组元素的累计和为：\\n',np.cumsum(arr)) #计算所有元素的累计和\n",
    "print('数组元素的累计积为：\\n',np.cumprod(arr))  #计算所有元素的累积积"
   ]
  },
  {
   "cell_type": "code",
   "execution_count": null,
   "metadata": {},
   "outputs": [],
   "source": []
  },
  {
   "cell_type": "code",
   "execution_count": null,
   "metadata": {},
   "outputs": [],
   "source": []
  }
 ],
 "metadata": {
  "kernelspec": {
   "display_name": "Python 3",
   "language": "python",
   "name": "python3"
  },
  "language_info": {
   "codemirror_mode": {
    "name": "ipython",
    "version": 3
   },
   "file_extension": ".py",
   "mimetype": "text/x-python",
   "name": "python",
   "nbconvert_exporter": "python",
   "pygments_lexer": "ipython3",
   "version": "3.7.0"
  }
 },
 "nbformat": 4,
 "nbformat_minor": 2
}
