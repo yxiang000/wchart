{
 "cells": [
  {
   "cell_type": "markdown",
   "metadata": {},
   "source": [
    "## python基础面试中，列表排序往往是一个热门话题，今天就和大家聊聊python的排序知识点"
   ]
  },
  {
   "cell_type": "markdown",
   "metadata": {},
   "source": [
    "### 首先呢python list内置sort()方法就可以用来排序，用法也相当简单\n",
    "### 其次python内置的全局sortd()方法也可以对迭代的序列排序生成新的序列\n",
    "- list内置sort()方法无返回值，直接在原有列表上进行操作\n",
    "- sortd()方法有返回值生成新的序列\n",
    "\n",
    "### 下面我们用例子说明"
   ]
  },
  {
   "cell_type": "code",
   "execution_count": 1,
   "metadata": {},
   "outputs": [
    {
     "name": "stdout",
     "output_type": "stream",
     "text": [
      "原有列表为： [12, 4, 78, -3, -45, 33, 66, 1, -8]\n",
      "list.sort()在list基础上修改，无返回值\n",
      "list.sort()排序后的结果为： [-45, -8, -3, 1, 4, 12, 33, 66, 78]\n"
     ]
    }
   ],
   "source": [
    "#对列表list_a分别利用sort和sortd进行排序\n",
    "list_a = [12,4,78,-3,-45,33,66,1,-8]\n",
    "#sort排序\n",
    "print('原有列表为：',list_a)\n",
    "print('list.sort()在list基础上修改，无返回值')\n",
    "list_a.sort()\n",
    "print('list.sort()排序后的结果为：',list_a)"
   ]
  },
  {
   "cell_type": "markdown",
   "metadata": {},
   "source": [
    "### list.sort()默认升序排列，若想要降序排序只需添加反转参数reverse=True即可："
   ]
  },
  {
   "cell_type": "code",
   "execution_count": 2,
   "metadata": {},
   "outputs": [
    {
     "name": "stdout",
     "output_type": "stream",
     "text": [
      "升序排序结果为: [78, 66, 33, 12, 4, 1, -3, -8, -45]\n"
     ]
    }
   ],
   "source": [
    "list_a.sort(reverse=True)\n",
    "print('升序排序结果为:',list_a)"
   ]
  },
  {
   "cell_type": "code",
   "execution_count": 3,
   "metadata": {},
   "outputs": [
    {
     "name": "stdout",
     "output_type": "stream",
     "text": [
      "sortd()排序有返回值，得到的排序结果为： [-45, -8, -3, 1, 4, 12, 33, 66, 78]\n"
     ]
    }
   ],
   "source": [
    "list_a = [12,4,78,-3,-45,33,66,1,-8]\n",
    "res = sorted(list_a)\n",
    "print('sortd()排序有返回值，得到的排序结果为：',res)"
   ]
  },
  {
   "cell_type": "markdown",
   "metadata": {},
   "source": [
    "## sortd()默认也是升序排序，若想降序排序也只需要添加reverse=True参数即可\n",
    "### sortd（）常用参数有三个，reverse=True为其中一个，还有一个参数为list_a这个iterable可迭代对象，还有一个为key函数，也就是自定义的一个函数，可以对排序进行简单的操作，下面举例说明"
   ]
  },
  {
   "cell_type": "code",
   "execution_count": 4,
   "metadata": {},
   "outputs": [
    {
     "name": "stdout",
     "output_type": "stream",
     "text": [
      "默认排序为: [-45, -8, -3, 1, 4, 12, 33, 66, 78]\n",
      "升序为： [78, 66, 33, 12, 4, 1, -3, -8, -45]\n",
      "lambada函数排序为: [-45, -8, -3, 1, 4, 12, 33, 66, 78]\n"
     ]
    }
   ],
   "source": [
    "#对列表list_a使用lambada函数排序\n",
    "list_a = [12,4,78,-3,-45,33,66,1,-8]\n",
    "res_1 = sorted(list_a)\n",
    "res_2 = sorted(list_a,reverse=True)\n",
    "res_3 = sorted(list_a,key=lambda x:x)\n",
    "print('默认排序为:',res_1)\n",
    "print('升序为：',res_2)\n",
    "print('lambada函数排序为:',res_3)"
   ]
  },
  {
   "cell_type": "markdown",
   "metadata": {},
   "source": [
    "#### 使用lambada函数对listlist_1排序，要求输出结果正数从小到大排序，负数从大到小排序"
   ]
  },
  {
   "cell_type": "code",
   "execution_count": 5,
   "metadata": {},
   "outputs": [
    {
     "name": "stdout",
     "output_type": "stream",
     "text": [
      "排序结果为： [1, 4, 12, 33, 66, 78, -3, -8, -45]\n"
     ]
    }
   ],
   "source": [
    "list_a = [12,4,78,-3,-45,33,66,1,-8]\n",
    "res = sorted(list_a,key=lambda x:(x<0,abs(x)))\n",
    "print('排序结果为：',res)"
   ]
  },
  {
   "cell_type": "markdown",
   "metadata": {},
   "source": [
    "### 列表嵌套字典排序，分别根据年龄和姓名排序"
   ]
  },
  {
   "cell_type": "code",
   "execution_count": 6,
   "metadata": {},
   "outputs": [
    {
     "name": "stdout",
     "output_type": "stream",
     "text": [
      "年龄从大小排序结果为： [{'name': 'dbv', 'age': '88'}, {'name': 'dn', 'age': '45'}, {'name': 'cd', 'age': '34'}, {'name': 'as', 'age': '12'}]\n",
      "姓名从小到大排序为： [{'name': 'as', 'age': '12'}, {'name': 'cd', 'age': '34'}, {'name': 'dbv', 'age': '88'}, {'name': 'dn', 'age': '45'}]\n"
     ]
    }
   ],
   "source": [
    "\n",
    "list_b = [\n",
    "    {\"name\":\"as\",\"age\":\"12\"},\n",
    "    {\"name\":\"cd\",\"age\":\"34\"},\n",
    "    {\"name\":\"dn\",\"age\":\"45\"},\n",
    "    {\"name\":\"dbv\",\"age\":\"88\"}\n",
    "]\n",
    "age = sorted(list_b,key=lambda x:x[\"age\"],reverse=True)\n",
    "print('年龄从大小排序结果为：',age)\n",
    "name = sorted(list_b,key=lambda x:x[\"name\"])\n",
    "print('姓名从小到大排序为：',name)"
   ]
  },
  {
   "cell_type": "markdown",
   "metadata": {},
   "source": [
    "### 列表嵌套元组，分别按字母和数字排序"
   ]
  },
  {
   "cell_type": "code",
   "execution_count": 7,
   "metadata": {},
   "outputs": [
    {
     "name": "stdout",
     "output_type": "stream",
     "text": [
      "字母排序结果为: [('aa', 12), ('fgr', 26), ('jy', 8), ('sd', 23)]\n",
      "数字排序结果为： [('fgr', 26), ('sd', 23), ('aa', 12), ('jy', 8)]\n"
     ]
    }
   ],
   "source": [
    "list_c = [\n",
    "    ('aa',12),(\"sd\",23),(\"fgr\",26),(\"jy\",8)\n",
    "]\n",
    "res_word = sorted(list_c,key=lambda x:x[0])\n",
    "res_num = sorted(list_c,key=lambda x:x[1],reverse=True)\n",
    "print('字母排序结果为:',res_word)\n",
    "print('数字排序结果为：',res_num)"
   ]
  },
  {
   "cell_type": "markdown",
   "metadata": {},
   "source": [
    "### 列表嵌套列表排序，年龄数字相同怎么办？"
   ]
  },
  {
   "cell_type": "code",
   "execution_count": 8,
   "metadata": {},
   "outputs": [
    {
     "name": "stdout",
     "output_type": "stream",
     "text": [
      "当年龄相同时添加另一个参数按照字母名称排序，结果为： [['sa', 10], ['fgd', 18], ['qw', 18], ['yu', 23], ['nh', 45]]\n"
     ]
    }
   ],
   "source": [
    "list_d = [\n",
    "    ['qw',18],['sa',10],['fgd',18],['nh',45],['yu',23]\n",
    "]\n",
    "res = sorted(list_d,key=lambda x:(x[1],x[0]))\n",
    "print('当年龄相同时添加另一个参数按照字母名称排序，结果为：',res)"
   ]
  },
  {
   "cell_type": "markdown",
   "metadata": {},
   "source": [
    "### 根据键对字典排序(方法一，zip函数)"
   ]
  },
  {
   "cell_type": "code",
   "execution_count": 9,
   "metadata": {},
   "outputs": [
    {
     "name": "stdout",
     "output_type": "stream",
     "text": [
      "字典转成列表嵌套元组: [('name', 'yx'), ('sex', 'man'), ('city', 'cd')]\n",
      "根据键排序结果为： [('city', 'cd'), ('name', 'yx'), ('sex', 'man')]\n",
      "排序后新的字典为： {'city': 'cd', 'name': 'yx', 'sex': 'man'}\n"
     ]
    }
   ],
   "source": [
    "dict_1 = {\"name\":\"yx\",\"sex\":\"man\",\"city\":\"cd\"}\n",
    "#将字典转列表嵌套元组\n",
    "foo = zip(dict_1.keys(),dict_1.values())  #得到可迭代对象\n",
    "foo = [i for i in foo]\n",
    "print('字典转成列表嵌套元组:',foo)\n",
    "res = sorted(foo,key=lambda x:x[0])  #字典嵌套元组排序\n",
    "print('根据键排序结果为：',res)\n",
    "#排序完成后构建新的字典\n",
    "new_dic = {i[0]:i[1] for i in res}\n",
    "print('排序后新的字典为：',new_dic)"
   ]
  },
  {
   "cell_type": "markdown",
   "metadata": {},
   "source": [
    "### 根据键对字典排序(方法儿，使用字典items方法)"
   ]
  },
  {
   "cell_type": "code",
   "execution_count": 10,
   "metadata": {},
   "outputs": [
    {
     "name": "stdout",
     "output_type": "stream",
     "text": [
      "dict_items([('name', 'yx'), ('sex', 'man'), ('city', 'cd')])\n",
      "排序结果为： [('city', 'cd'), ('name', 'yx'), ('sex', 'man')]\n",
      "排序后新的字典为： {'city': 'cd', 'name': 'yx', 'sex': 'man'}\n"
     ]
    }
   ],
   "source": [
    "dict_1 = {\"name\":\"yx\",\"sex\":\"man\",\"city\":\"cd\"}\n",
    "#字典转成列表嵌套元组\n",
    "print(dict_1.items())\n",
    "res = sorted(dict_1.items(),key=lambda x:x[0])\n",
    "print('排序结果为：',res)\n",
    "#构建新的字典\n",
    "new_dic = {i[0]:i[1] for i in res}\n",
    "print('排序后新的字典为：',new_dic)"
   ]
  },
  {
   "cell_type": "markdown",
   "metadata": {},
   "source": [
    "## 补充内容"
   ]
  },
  {
   "cell_type": "markdown",
   "metadata": {},
   "source": [
    "- 除了上述操作外，列表排序还可以借助operator模块的itemgetter函数辅助列表排序\n",
    "- operator模块提供的itemgetter函数用于获取对象的哪些维的数据，参数为一些序号\n",
    "- operator.itemgetter函数获取的不是值，而是定义了一个函数，通过该函数作用到对象上才能获取值。"
   ]
  },
  {
   "cell_type": "code",
   "execution_count": 11,
   "metadata": {},
   "outputs": [
    {
     "name": "stdout",
     "output_type": "stream",
     "text": [
      "2\n"
     ]
    }
   ],
   "source": [
    "#导包\n",
    "from operator import itemgetter\n",
    "\n",
    "list_e = [1,2,3,4,5]\n",
    "func_1 = itemgetter(1)   #定义函数func_1,获取对象的第一个域的值\n",
    "print(func_1(list_e))"
   ]
  },
  {
   "cell_type": "code",
   "execution_count": 12,
   "metadata": {},
   "outputs": [
    {
     "name": "stdout",
     "output_type": "stream",
     "text": [
      "(2, 1)\n"
     ]
    }
   ],
   "source": [
    "list_e = [1,2,3,4,5]\n",
    "func_2 = itemgetter(1,0)   #定义函数func_2,获取对象的第一个域和第0个域值\n",
    "print(func_2(list_e))"
   ]
  },
  {
   "cell_type": "code",
   "execution_count": 13,
   "metadata": {},
   "outputs": [
    {
     "name": "stdout",
     "output_type": "stream",
     "text": [
      "[[2, 'Rose', 13], [5, 'Sam', 12], [3, 'Jack', 12], [1, 'Tom', 10], [4, 'Joy', 8]]\n"
     ]
    }
   ],
   "source": [
    "#按年龄为主要关键字，名字为次要关键字倒序排序：\n",
    "students = [[3,'Jack',12],[2,'Rose',13],[1,'Tom',10],[5,'Sam',12],[4,'Joy',8]]\n",
    "\n",
    "res = sorted(students,key=itemgetter(2,1),reverse=True)\n",
    "print(res)"
   ]
  },
  {
   "cell_type": "code",
   "execution_count": null,
   "metadata": {},
   "outputs": [],
   "source": []
  },
  {
   "cell_type": "code",
   "execution_count": null,
   "metadata": {},
   "outputs": [],
   "source": []
  },
  {
   "cell_type": "code",
   "execution_count": null,
   "metadata": {},
   "outputs": [],
   "source": []
  },
  {
   "cell_type": "code",
   "execution_count": null,
   "metadata": {},
   "outputs": [],
   "source": []
  }
 ],
 "metadata": {
  "kernelspec": {
   "display_name": "Python 3",
   "language": "python",
   "name": "python3"
  },
  "language_info": {
   "codemirror_mode": {
    "name": "ipython",
    "version": 3
   },
   "file_extension": ".py",
   "mimetype": "text/x-python",
   "name": "python",
   "nbconvert_exporter": "python",
   "pygments_lexer": "ipython3",
   "version": "3.7.0"
  }
 },
 "nbformat": 4,
 "nbformat_minor": 2
}
