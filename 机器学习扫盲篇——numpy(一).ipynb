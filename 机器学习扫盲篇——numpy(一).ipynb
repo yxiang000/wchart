{
 "cells": [
  {
   "cell_type": "markdown",
   "metadata": {},
   "source": [
    "hello大家好，在机器学习与人工智能燃烧全球的当下，小编也随大流为大家送上了机器学习与AI的基础内容\n",
    "(Numpy科学计算库的使用)，好吧，我承认自己不会扯犊子，那么我们就直接进入主题，What's numpy?"
   ]
  },
  {
   "cell_type": "code",
   "execution_count": null,
   "metadata": {},
   "outputs": [],
   "source": [
    "Numpy简介：\n",
    "    numpy是Numerical Python的简称，是用于数据科学计算的基础模块，不但能够完成科学计算的任务，而且能够用作\n",
    "    高效的多为数据容器，可用于存储和处理大型矩阵(矩阵概念请移驾线性代数，此处不做解释)\n",
    "    虽然python是用于通用编程的优秀工具，具有高度可读的语法和丰富强大的数据类型(字符串，列表，集合，字典和数值等)\n",
    "    以及非常全面的标准库，但是他并没有提供数组功能（虽然python中列表功能及其强大），为此Numpy提供了真正的数组功能\n",
    "    以及对数据进行快速处理的函数，这就是numpy\n",
    "numpy安装：\n",
    "    安装numpy与其他第三方库一样，可以通过pip安装\n",
    "        pip install numpy\n",
    "    或者自行下载源代码，然后\n",
    "        python setup.py install\n",
    "    上述方法适用win环境编程和linux环境编程，在linux环境中，好多发行版的软件源都有python常见的库\n",
    "    因此可以利用linux软件管理方式安装，如Ubuntu中：\n",
    "        sudo apt-get install python-numpy \n",
    "numpy参考链接：\n",
    "    http://www.numpy.org/     #官网是最好的学习手册\n",
    "    https://www.numpy.org.cn/    #numpy中文文档\n",
    "    http://www.runoob.com/numpy/numpy-tutorial.html  #菜鸟教程"
   ]
  },
  {
   "cell_type": "markdown",
   "metadata": {},
   "source": [
    "#### 数组与列表的异同"
   ]
  },
  {
   "cell_type": "code",
   "execution_count": 1,
   "metadata": {},
   "outputs": [
    {
     "name": "stdout",
     "output_type": "stream",
     "text": [
      "LIST的值为:[1, 3, 5, 7, 9],类型为：<class 'list'>\n",
      "ARR的值为：[1 3 5 7 9],类型为：<class 'numpy.ndarray'>\n"
     ]
    }
   ],
   "source": [
    "#首先用熟悉的列表对比陌生的数组，进而初步认识什么是数组\n",
    "import numpy as np    #导入numpy包\n",
    "LIST = [1,3,5,7,9]\n",
    "ARR = np.array([1,3,5,7,9])\n",
    "print('LIST的值为:{},类型为：{}'.format(LIST,type(LIST)))\n",
    "print('ARR的值为：{},类型为：{}'.format(ARR,type(ARR)))"
   ]
  },
  {
   "cell_type": "code",
   "execution_count": null,
   "metadata": {},
   "outputs": [],
   "source": [
    "通过上面的例子我们发现，LIST依旧是我们的列表，而ARR的类型变成了<class 'numpy.ndarray'>这个对象\n",
    "那么我们就从<class 'numpy.ndarray'>这个对象说起"
   ]
  },
  {
   "cell_type": "markdown",
   "metadata": {},
   "source": [
    "#### 数组对象ndarray\n",
    "- numpy提供了俩种基本对象：ndarray(N-dimensional Array Object)和ufunc(Universal Function Object)\n",
    "- ndarray(下文统一称为数组)是存储单一数据类型的多为数组\n",
    "- 而ufunc则是能够对数组进行处理的函数"
   ]
  },
  {
   "cell_type": "markdown",
   "metadata": {},
   "source": [
    "#### 数组属性\n",
    "    为了更好的理解和使用数组，在创建数组之前，我们先了解了解数组的基本属性\n",
    "- ndim：返回int，表示数组的维数\n",
    "- shape：返回tuple，表示数组的尺寸，对于n行m列的矩阵，形状为(n,m)\n",
    "- size：返回int，表示数组的元素总数，等于数组形状的乘积\n",
    "- dtype：返回数组中的数据类型，注意的是数组中的数据类型相同\n",
    "- itemsize：返回int，表示每个元素的大小（单位字节）"
   ]
  },
  {
   "cell_type": "markdown",
   "metadata": {},
   "source": [
    "#### 数组创建\n",
    "numpy提供的array函数可以创建一维或多维数组，基本语法如下：\n",
    "\n",
    "numpy.array(object, dtype=None, copy=True, order='K', subok=False, ndmin=0)\n",
    "\n",
    "参数说明：\n",
    "\n",
    "    1.object：接受array，表示想要创建的数组，无默认\n",
    "    2.dtype：接受数据类型，表示数组所需的数据类型\n",
    "    3.ndim：接受int，指定生成数组应该具有的最小维数，默认为None\n",
    "    "
   ]
  },
  {
   "cell_type": "code",
   "execution_count": 5,
   "metadata": {},
   "outputs": [
    {
     "name": "stdout",
     "output_type": "stream",
     "text": [
      "创建的数组为： [1 2 3 4 5]\n"
     ]
    }
   ],
   "source": [
    "#创建数组并查看数组属性\n",
    "arr1 = np.array([1,2,3,4,5])  #创建一个数组\n",
    "print('创建的数组为：',arr1)"
   ]
  },
  {
   "cell_type": "code",
   "execution_count": 11,
   "metadata": {},
   "outputs": [
    {
     "name": "stdout",
     "output_type": "stream",
     "text": [
      "创建的数组为：\n",
      " [[1 2 3]\n",
      " [4 5 6]\n",
      " [7 8 9]]\n"
     ]
    }
   ],
   "source": [
    "#创建二维数组\n",
    "arr2 = np.array([[1,2,3],[4,5,6],[7,8,9]])\n",
    "print('创建的数组为：\\n',arr2)"
   ]
  },
  {
   "cell_type": "code",
   "execution_count": 13,
   "metadata": {},
   "outputs": [
    {
     "name": "stdout",
     "output_type": "stream",
     "text": [
      "新创建的二维列表为：\n",
      " [[ 1  2  3  4]\n",
      " [ 5  6  7  8]\n",
      " [ 9 10 11 12]]\n"
     ]
    }
   ],
   "source": [
    "#二维数组其实就是列表的一种嵌套功能，也可以这样创建：\n",
    "list_1 = [\n",
    "    [1,2,3,4],\n",
    "    [5,6,7,8],\n",
    "    [9,10,11,12]\n",
    "]\n",
    "arr3 = np.array(list_1)\n",
    "print('新创建的二维列表为：\\n',arr3)"
   ]
  },
  {
   "cell_type": "code",
   "execution_count": 15,
   "metadata": {},
   "outputs": [],
   "source": [
    "#甚至也可以看前面有几个方括号就是几维的数组，三维或者更高维的数组依次类推"
   ]
  },
  {
   "cell_type": "code",
   "execution_count": 21,
   "metadata": {},
   "outputs": [
    {
     "name": "stdout",
     "output_type": "stream",
     "text": [
      "数组维度为： (3, 4)\n"
     ]
    }
   ],
   "source": [
    "#查看数组结构\n",
    "print('数组维度为：',arr3.shape)   #输出结果代表三行四列"
   ]
  },
  {
   "cell_type": "raw",
   "metadata": {},
   "source": [
    "注意：在这里面我们输出arr3这个二维数组的结构为三行四列，用坐标轴表示为：\n",
    "第0轴的长度为3（代表行数）（横轴）\n",
    "第1轴的长度为4（代表列数）（纵轴）\n",
    "此处一定需谨记"
   ]
  },
  {
   "cell_type": "code",
   "execution_count": 18,
   "metadata": {},
   "outputs": [
    {
     "name": "stdout",
     "output_type": "stream",
     "text": [
      "数组类型为： int32\n"
     ]
    }
   ],
   "source": [
    "#查看数组类型\n",
    "print('数组类型为：',arr3.dtype)"
   ]
  },
  {
   "cell_type": "code",
   "execution_count": 19,
   "metadata": {},
   "outputs": [
    {
     "name": "stdout",
     "output_type": "stream",
     "text": [
      "数组元素个数为： 12\n"
     ]
    }
   ],
   "source": [
    "#查看数组元素个数\n",
    "print('数组元素个数为：',arr3.size)"
   ]
  },
  {
   "cell_type": "code",
   "execution_count": 20,
   "metadata": {},
   "outputs": [
    {
     "name": "stdout",
     "output_type": "stream",
     "text": [
      "数组每个元素大小为： 4\n"
     ]
    }
   ],
   "source": [
    "#查看数组每个元素大小\n",
    "print('数组每个元素大小为：',arr3.itemsize)"
   ]
  },
  {
   "cell_type": "code",
   "execution_count": 26,
   "metadata": {},
   "outputs": [
    {
     "name": "stdout",
     "output_type": "stream",
     "text": [
      "arr3数组的结构为： (3, 4)\n",
      "重新设置shape后的arr3的结构为： (4, 3)\n"
     ]
    }
   ],
   "source": [
    "#重新设置数组的shaoe属性\n",
    "print('arr3数组的结构为：',arr3.shape)\n",
    "arr3.shape = 4,3  #重新设置shape\n",
    "print('重新设置shape后的arr3的结构为：',arr3.shape)"
   ]
  },
  {
   "cell_type": "raw",
   "metadata": {},
   "source": [
    "使用arange函数创建数组\n",
    "    arange函数类似于python自带的range函数，通过指定开始值，终值和步长来创建一维数组，创建的数组不包含终值"
   ]
  },
  {
   "cell_type": "code",
   "execution_count": 35,
   "metadata": {},
   "outputs": [
    {
     "name": "stdout",
     "output_type": "stream",
     "text": [
      "arr4数组为： [0.  0.1 0.2 0.3 0.4 0.5 0.6 0.7 0.8 0.9]\n",
      "arr4数组结构为: (10,)\n",
      "改变结构的新数组为：\n",
      " [[0.  0.1 0.2 0.3 0.4]\n",
      " [0.5 0.6 0.7 0.8 0.9]]\n",
      "改变结构的新数组结构为： (2, 5)\n"
     ]
    }
   ],
   "source": [
    "#使用arange函数创建数组\n",
    "arr4 = np.arange(0,1,0.1)\n",
    "print('arr4数组为：',arr4)\n",
    "print('arr4数组结构为:',arr4.shape)\n",
    "arr4.shape = 2,5\n",
    "print('改变结构的新数组为：\\n',arr4)\n",
    "print('改变结构的新数组结构为：',arr4.shape)"
   ]
  },
  {
   "cell_type": "code",
   "execution_count": 47,
   "metadata": {},
   "outputs": [
    {
     "name": "stdout",
     "output_type": "stream",
     "text": [
      "[[ 0  1  2  3  4]\n",
      " [ 5  6  7  8  9]\n",
      " [10 11 12 13 14]\n",
      " [15 16 17 18 19]]\n",
      "(4, 5)\n"
     ]
    }
   ],
   "source": [
    "#上述操作可以直接改为如下操作\n",
    "arr5 = np.arange(0,20,1).reshape((4,5))\n",
    "print(arr5)\n",
    "print(arr5.shape)"
   ]
  },
  {
   "cell_type": "markdown",
   "metadata": {},
   "source": [
    "#### numpy常用函数操作"
   ]
  },
  {
   "cell_type": "code",
   "execution_count": 51,
   "metadata": {},
   "outputs": [
    {
     "name": "stdout",
     "output_type": "stream",
     "text": [
      "[0.         0.09090909 0.18181818 0.27272727 0.36363636 0.45454545\n",
      " 0.54545455 0.63636364 0.72727273 0.81818182 0.90909091 1.        ]\n",
      "………………………………\n",
      "[[0.         0.09090909 0.18181818 0.27272727]\n",
      " [0.36363636 0.45454545 0.54545455 0.63636364]\n",
      " [0.72727273 0.81818182 0.90909091 1.        ]]\n"
     ]
    }
   ],
   "source": [
    "#linspace函数通过指定开始值，终值和元素个数来创建一维数组，默认包含终值\n",
    "arr6 = np.linspace(0,1,12)\n",
    "print(arr6)\n",
    "print('………………………………')\n",
    "arr6.shape = 3,4\n",
    "print(arr6)"
   ]
  },
  {
   "cell_type": "code",
   "execution_count": 52,
   "metadata": {},
   "outputs": [
    {
     "name": "stdout",
     "output_type": "stream",
     "text": [
      "[  1.           1.66810054   2.7825594    4.64158883   7.74263683\n",
      "  12.91549665  21.5443469   35.93813664  59.94842503 100.        ]\n"
     ]
    }
   ],
   "source": [
    "#logspace函数和linspace函数类似，他创建的是等比数列\n",
    "#生成1（10^0）～100（10^2）的20个元素的等比数列\n",
    "arr7 = np.logspace(0,2,10)\n",
    "print(arr7)"
   ]
  },
  {
   "cell_type": "code",
   "execution_count": 54,
   "metadata": {},
   "outputs": [
    {
     "name": "stdout",
     "output_type": "stream",
     "text": [
      "[[0. 0. 0.]\n",
      " [0. 0. 0.]]\n"
     ]
    }
   ],
   "source": [
    "#使用zeros函数用来创建值全为0的数组,即创建的数组值全部填充为0\n",
    "arr8 = np.zeros((2,3))  #创建俩行三列的值全为0的数组\n",
    "print(arr8)"
   ]
  },
  {
   "cell_type": "code",
   "execution_count": 55,
   "metadata": {},
   "outputs": [
    {
     "name": "stdout",
     "output_type": "stream",
     "text": [
      "[[1. 0. 0.]\n",
      " [0. 1. 0.]\n",
      " [0. 0. 1.]]\n"
     ]
    }
   ],
   "source": [
    "#eye函数用来生成主对角线元素为1，其他元素为0的数组，类似单位矩阵\n",
    "arr9 = np.eye(3)   #创建三行三列的方阵\n",
    "print(arr9)"
   ]
  },
  {
   "cell_type": "code",
   "execution_count": 56,
   "metadata": {},
   "outputs": [
    {
     "name": "stdout",
     "output_type": "stream",
     "text": [
      "[[1 0 0 0]\n",
      " [0 2 0 0]\n",
      " [0 0 3 0]\n",
      " [0 0 0 4]]\n"
     ]
    }
   ],
   "source": [
    "#diag函数用来创建类似对角的数组，即除对角线以外的其他元素都是0，对角线得到元素可以是0或其他值\n",
    "arr10 = np.diag([1,2,3,4])  #指定主对角线数值\n",
    "print(arr10)"
   ]
  },
  {
   "cell_type": "code",
   "execution_count": 57,
   "metadata": {},
   "outputs": [
    {
     "name": "stdout",
     "output_type": "stream",
     "text": [
      "[[1. 1. 1.]\n",
      " [1. 1. 1.]\n",
      " [1. 1. 1.]\n",
      " [1. 1. 1.]\n",
      " [1. 1. 1.]]\n"
     ]
    }
   ],
   "source": [
    "#ones函数用来创建元素全部为1的数组，即创建的数组元素全部填充为1\n",
    "arr11 = np.ones((5,3))   #创建五行三列全为1的数组\n",
    "print(arr11)"
   ]
  },
  {
   "cell_type": "markdown",
   "metadata": {},
   "source": [
    "#### 随机数模块\n",
    "- 手动创建数组往往达不到要求，numpy提供了强大的生成随机数的功能\n",
    "- 与随机数相关的函数都在random模块中，其中包含了可以生成服从多种概率分布随机的函数\n",
    "- 以下是random函数最常见的生成随机数的方法"
   ]
  },
  {
   "cell_type": "code",
   "execution_count": 62,
   "metadata": {},
   "outputs": [
    {
     "name": "stdout",
     "output_type": "stream",
     "text": [
      "[0.48127623 0.36933585 0.73928881 0.53902642 0.80568824 0.55716635\n",
      " 0.73936937 0.37069847 0.98587863 0.02308404]\n"
     ]
    }
   ],
   "source": [
    "ran_1 = np.random.random(10)   #生成10个随机数，每次执行结果都不一样\n",
    "print(ran_1)"
   ]
  },
  {
   "cell_type": "code",
   "execution_count": 67,
   "metadata": {},
   "outputs": [
    {
     "name": "stdout",
     "output_type": "stream",
     "text": [
      "[[-1.04507631 -1.58336544 -0.43297548  1.08908973  2.04925735]\n",
      " [ 0.61833105  1.17232592  0.02939649 -0.03263147  1.44840523]\n",
      " [ 0.19768341  0.21221708 -0.10614314 -0.40254615  0.93581698]\n",
      " [-0.50170946  0.27370432  1.37615823  1.76457831  1.63892777]\n",
      " [ 0.09972512 -2.52665219 -0.70690784 -0.18569487 -1.59246498]\n",
      " [-0.0894842  -0.7316969  -0.29964371 -0.09318588 -1.73077169]\n",
      " [ 0.51337396  1.34809369  0.17095406  0.37647126  0.15879167]\n",
      " [-0.93012038  0.83274069 -0.15167772  1.57882226  0.87106034]\n",
      " [ 0.68032065  0.72761229  0.86344134 -0.03948463 -0.34206821]\n",
      " [-0.22672051  1.50517205  1.70763102  0.5033883  -1.56937406]]\n"
     ]
    }
   ],
   "source": [
    "#生成服从正态分布的随机数\n",
    "ran_2 = np.random.randn(10,5)  #生成10行5列服从正态分布的随机矩阵\n",
    "print(ran_2)"
   ]
  },
  {
   "cell_type": "code",
   "execution_count": 68,
   "metadata": {},
   "outputs": [
    {
     "name": "stdout",
     "output_type": "stream",
     "text": [
      "[[0.11930781 0.36429115 0.94569469 0.05964557 0.28184952]\n",
      " [0.70589232 0.09670418 0.06770193 0.61697354 0.23610697]\n",
      " [0.61403779 0.52166172 0.60570958 0.72644933 0.5584894 ]\n",
      " [0.79483217 0.38346914 0.85992489 0.02773583 0.57154781]\n",
      " [0.29134758 0.2577382  0.28677257 0.50661361 0.25369635]\n",
      " [0.64978039 0.82851479 0.42589059 0.74358458 0.15611768]\n",
      " [0.54371795 0.27973318 0.31345884 0.44226611 0.88358934]\n",
      " [0.29836322 0.04575591 0.00894217 0.49288747 0.50877322]\n",
      " [0.76732225 0.21200842 0.62592384 0.57179296 0.30951462]\n",
      " [0.37585968 0.97296602 0.89597801 0.694317   0.75124011]]\n"
     ]
    }
   ],
   "source": [
    "#生成服从均匀分布的随机数\n",
    "ran_3 = np.random.rand(10,5)\n",
    "print(ran_3)"
   ]
  },
  {
   "cell_type": "code",
   "execution_count": 71,
   "metadata": {},
   "outputs": [
    {
     "name": "stdout",
     "output_type": "stream",
     "text": [
      "[[5 7 3 9 6]\n",
      " [3 4 8 8 8]]\n"
     ]
    }
   ],
   "source": [
    "#randint函数生成给定上下限制范围的随机数\n",
    "#格式  np.random.randint(low, high=None, size=None, dtype='l')\n",
    "#其中low为最小值，high为最大值，size为数组的维数(shape)\n",
    "ran_4 = np.random.randint(2,10,size=(2,5))\n",
    "print(ran_4)"
   ]
  },
  {
   "cell_type": "markdown",
   "metadata": {},
   "source": [
    "#### random模块常用随机数生成函数\n",
    "- seed：确定随机数生成器的种子\n",
    "- permutation:返回一个序列的随机排列或返回一个随机排列的范围\n",
    "- Shuffle：对一个序列进行随机排序\n",
    "- binomial：产生一个二项式分布的随机数\n",
    "- normal：产生正态(高斯)分布的随机数\n",
    "- beta：产生beta分布的随机数\n",
    "- unigorm：产生在[0,1]中均匀分布的随机数"
   ]
  },
  {
   "cell_type": "markdown",
   "metadata": {},
   "source": [
    "#### 数组数据类型\n",
    "- numpy的基本数据类型及其取值范围"
   ]
  },
  {
   "cell_type": "raw",
   "metadata": {},
   "source": [
    "bool:用一位存储的布尔类型(值为True或False)\n",
    "initi：由所在平台决定其精度的整数（一般为int32或int64）\n",
    "int32：整数，取值范围-2^31 ～ 2^32 - 1\n",
    "int64:整数，取值范围-2^63 ～ 2^63 - 1\n",
    "uint32:无符号整数，范围0～2^32 -1\n",
    "uint64:无符号整数，范围0～2^64 -1\n",
    "float32:单精度浮点数(32位)，其中用1位表示正负号，用8位表示指数，用23位表示尾数\n",
    "float64/float:双精度浮点数(64位)，其中用1位表示正负号，用11位表示指数，用52位表示尾数\n",
    "complex64:复数，分别用俩个32位浮点数表示实部和虚部\n",
    "complex128或complex：复数，分别用俩个64位浮点数表示实部和虚部"
   ]
  },
  {
   "cell_type": "markdown",
   "metadata": {},
   "source": [
    "#### 数组类型转换"
   ]
  },
  {
   "cell_type": "code",
   "execution_count": 2,
   "metadata": {},
   "outputs": [
    {
     "name": "stdout",
     "output_type": "stream",
     "text": [
      "转换结果为： 42.0\n"
     ]
    }
   ],
   "source": [
    "print('转换结果为：',np.float(42))   #整形转换为浮点型"
   ]
  },
  {
   "cell_type": "code",
   "execution_count": 3,
   "metadata": {},
   "outputs": [
    {
     "name": "stdout",
     "output_type": "stream",
     "text": [
      "转换结果为： 42\n"
     ]
    }
   ],
   "source": [
    "print('转换结果为：',np.int8(42.0))  #浮点型转换为整形"
   ]
  },
  {
   "cell_type": "code",
   "execution_count": 4,
   "metadata": {},
   "outputs": [
    {
     "name": "stdout",
     "output_type": "stream",
     "text": [
      "转换结果为： True\n"
     ]
    }
   ],
   "source": [
    "print('转换结果为：',np.bool(42))  #整形转换为布尔型"
   ]
  },
  {
   "cell_type": "code",
   "execution_count": 5,
   "metadata": {},
   "outputs": [
    {
     "name": "stdout",
     "output_type": "stream",
     "text": [
      "转换结果为： False\n"
     ]
    }
   ],
   "source": [
    "print('转换结果为：',np.bool(0))   #整形转换为布尔型"
   ]
  },
  {
   "cell_type": "code",
   "execution_count": 6,
   "metadata": {},
   "outputs": [
    {
     "name": "stdout",
     "output_type": "stream",
     "text": [
      "转换结果为： 1.0\n"
     ]
    }
   ],
   "source": [
    "print('转换结果为：',np.float(True))   #布尔型转换为浮点型"
   ]
  },
  {
   "cell_type": "code",
   "execution_count": 7,
   "metadata": {},
   "outputs": [
    {
     "name": "stdout",
     "output_type": "stream",
     "text": [
      "转换结果为： 0.0\n"
     ]
    }
   ],
   "source": [
    "print('转换结果为：',np.float(False))   #布尔型转换为浮点型"
   ]
  },
  {
   "cell_type": "markdown",
   "metadata": {},
   "source": [
    "#### 自定义数据类型"
   ]
  },
  {
   "cell_type": "code",
   "execution_count": 8,
   "metadata": {},
   "outputs": [
    {
     "name": "stdout",
     "output_type": "stream",
     "text": [
      "数据类型为： [('name', '<U40'), ('age', '<i8'), ('height', '<f8')]\n"
     ]
    }
   ],
   "source": [
    "#创建数据类型\n",
    "student = np.dtype([(\"name\",np.str_,40),(\"age\",np.int64),(\"height\",np.float64)])\n",
    "print('数据类型为：',student)"
   ]
  },
  {
   "cell_type": "code",
   "execution_count": 9,
   "metadata": {},
   "outputs": [
    {
     "name": "stdout",
     "output_type": "stream",
     "text": [
      "数据类型为： <U40\n",
      "数据类型为： <U40\n"
     ]
    }
   ],
   "source": [
    "#查看数据类型\n",
    "print('数据类型为：',student['name'])\n",
    "print('数据类型为：',np.dtype(student['name']))"
   ]
  },
  {
   "cell_type": "code",
   "execution_count": 11,
   "metadata": {},
   "outputs": [
    {
     "name": "stdout",
     "output_type": "stream",
     "text": [
      "自定义数据为：\n",
      " [['小明' '18' '175.6']\n",
      " ['小红' '16' '165.8']\n",
      " ['小王' '21' '188.0']]\n"
     ]
    }
   ],
   "source": [
    "#自定义数组数据\n",
    "items = np.array([(\"小明\",18,175.6),('小红',16,165.8),('小王',21,188.0)])\n",
    "print('自定义数据为：\\n',items)"
   ]
  },
  {
   "cell_type": "code",
   "execution_count": null,
   "metadata": {},
   "outputs": [],
   "source": []
  }
 ],
 "metadata": {
  "kernelspec": {
   "display_name": "Python 3",
   "language": "python",
   "name": "python3"
  },
  "language_info": {
   "codemirror_mode": {
    "name": "ipython",
    "version": 3
   },
   "file_extension": ".py",
   "mimetype": "text/x-python",
   "name": "python",
   "nbconvert_exporter": "python",
   "pygments_lexer": "ipython3",
   "version": "3.7.0"
  }
 },
 "nbformat": 4,
 "nbformat_minor": 2
}
