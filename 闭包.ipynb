{
 "cells": [
  {
   "cell_type": "code",
   "execution_count": null,
   "metadata": {},
   "outputs": [],
   "source": [
    "应广大（三人为众）人民群众的要求，今日特地整理了一下python中的闭包操作，在这里呢首先得明确告诉大家闭包\n",
    "不仅仅是python中的概念，在其他语言中也广泛使用，尤其在函数式编程语言中较为广泛。"
   ]
  },
  {
   "cell_type": "code",
   "execution_count": null,
   "metadata": {},
   "outputs": [],
   "source": [
    "首先我们先看一下闭包的概念，此处摘取了百度为闭包的定义感念：\n",
    "    “闭包就是能够读取其他函数内部变量的函数。例如在javascript中，只有函数内部的子函数才能读取局部变量，\n",
    "    所以闭包可以理解成“定义在一个函数内部的函数“。在本质上，闭包是将函数内部和函数外部连接起来的桥梁。”"
   ]
  },
  {
   "cell_type": "markdown",
   "metadata": {},
   "source": [
    "内部函数：\n",
    "    从上面的语句中我们可以得出闭包里面有一个概念叫做内部函数\n",
    "    所谓的内部函数就是在函数内部里面申明的函数就是内部函数，如下：\n",
    "    def 函数名():\n",
    "        局部变量...\n",
    "        def 内部函数名():\n",
    "            python功能代码...\n",
    "            \n",
    "    ————————————————————————————————————\n",
    "    \n",
    "    def funcName():\n",
    "        name = '非凡wang咖'\n",
    "        #定义一个内部函数\n",
    "        def inner():\n",
    "            print('我是内部函数')\n",
    "            \n",
    "注释：\n",
    "    1.内部函数的本质就是局部变量(函数就是一个变量)\n",
    "    2.颞部函数在函数外部不可以直接调用\n",
    "    3.内部函数在函数内部调用（当然，必须定义内部函数之后才能调用）        "
   ]
  },
  {
   "cell_type": "code",
   "execution_count": null,
   "metadata": {},
   "outputs": [],
   "source": [
    "闭包：\n",
    "    那么ok，当我们了解内部函数后，现在来看看闭包到底是什么；\n",
    "闭包作用：\n",
    "    突破局部变量的作用域限制，使得局部变量和内部函数可以在函数之外使用的操作，这就是闭包。\n",
    "\n",
    "闭包方法一：\n",
    "    def 函数名():\n",
    "        局部变量....\n",
    "        def 内部函数():\n",
    "            pass\n",
    "        return (局部变量，局部函数...)\n",
    "闭包方法二：\n",
    "    def 函数名():\n",
    "        局部变量\n",
    "        def 局部函数名():\n",
    "            pass\n",
    "        #获取所有需要进行闭包操作的函数和变量\n",
    "        def all():\n",
    "            return (局部变量,内部函数....)\n",
    "        return all"
   ]
  },
  {
   "cell_type": "code",
   "execution_count": 17,
   "metadata": {},
   "outputs": [],
   "source": [
    "#接下来我们举例说明闭包的内容\n",
    "#定义一个函数\n",
    "def func():\n",
    "    name = \"小仙女\"\n",
    "    def inner():\n",
    "        print('I Love 小仙女！')\n",
    "    return name,inner"
   ]
  },
  {
   "cell_type": "code",
   "execution_count": 18,
   "metadata": {},
   "outputs": [],
   "source": [
    "name,inner = func()"
   ]
  },
  {
   "cell_type": "code",
   "execution_count": 19,
   "metadata": {},
   "outputs": [
    {
     "name": "stdout",
     "output_type": "stream",
     "text": [
      "小仙女\n"
     ]
    }
   ],
   "source": [
    "print(name)"
   ]
  },
  {
   "cell_type": "code",
   "execution_count": 20,
   "metadata": {},
   "outputs": [
    {
     "name": "stdout",
     "output_type": "stream",
     "text": [
      "<function func.<locals>.inner at 0x000001A2CBEB3BF8>\n"
     ]
    }
   ],
   "source": [
    "print(inner)"
   ]
  },
  {
   "cell_type": "code",
   "execution_count": 21,
   "metadata": {},
   "outputs": [
    {
     "name": "stdout",
     "output_type": "stream",
     "text": [
      "I Love 小仙女！\n"
     ]
    }
   ],
   "source": [
    "inner()"
   ]
  },
  {
   "cell_type": "code",
   "execution_count": null,
   "metadata": {},
   "outputs": [],
   "source": [
    "上述例子小结：\n",
    "    在上述的例子中，我们定义了一个函数func，在函数内部定义了一个name属性和inner内部函数俩个变量，\n",
    "    在内部函数里面打印了一句'I Love 小仙女！'的话，现在呢我们想要得到name属性的值和将'I Love 小仙女！'\n",
    "    这句话打印出来，这时候func函数就为我们返回name的属性和inner函数，\n",
    "    注意此处返回的是inner函数，而并不是直接打印'I Love 小仙女！'这句换，\n",
    "    当我们得到inner函数时只需要调用该函数就可得到'I Love 小仙女！'这句话"
   ]
  },
  {
   "cell_type": "code",
   "execution_count": null,
   "metadata": {},
   "outputs": [],
   "source": [
    "同理，我们依旧用上面的例子，只不过稍微做个简单的修改，如下："
   ]
  },
  {
   "cell_type": "code",
   "execution_count": 25,
   "metadata": {},
   "outputs": [],
   "source": [
    "def func():\n",
    "    name = \"小仙女\"\n",
    "    def inner():\n",
    "        age = 18\n",
    "        return age\n",
    "    return name,inner"
   ]
  },
  {
   "cell_type": "code",
   "execution_count": null,
   "metadata": {},
   "outputs": [],
   "source": [
    "如上函数，现在我想要得到name属性和age属性，这时候func函数就应该为我们返回name属性和inner函数，\n",
    "为什么不直接返回age呢，因为age是inner函数的内部变量，func函数无权访问\n",
    "就好比一个男的想要在你家来去自如，那么得有个前提，该男子一定和你家有一定的关系\n",
    "如果没有关系那么就得建立一层关系，比如认个干爹？取了你姐姐？等等方法\n",
    "现在好比，age这个变量是你家的某个宝贝，我想得到这个宝贝，是不是得先取了你姐姐\n",
    "而你姐姐就是此时的inner函数，当我成为你家姑爷时就可以直接获取age这个变量啦\n",
    "结果如下："
   ]
  },
  {
   "cell_type": "code",
   "execution_count": 26,
   "metadata": {},
   "outputs": [
    {
     "name": "stdout",
     "output_type": "stream",
     "text": [
      "小仙女\n",
      "<function func.<locals>.inner at 0x000001A2CBEB3488>\n"
     ]
    }
   ],
   "source": [
    "name,age = func()\n",
    "print(name)\n",
    "print(age)"
   ]
  },
  {
   "cell_type": "code",
   "execution_count": 27,
   "metadata": {},
   "outputs": [
    {
     "name": "stdout",
     "output_type": "stream",
     "text": [
      "我才是真正的age属性：18\n"
     ]
    }
   ],
   "source": [
    "#此时得到name属性和age函数，现在获取真正的age\n",
    "print('我才是真正的age属性：{}'.format(age()))"
   ]
  },
  {
   "cell_type": "code",
   "execution_count": null,
   "metadata": {},
   "outputs": [],
   "source": []
  },
  {
   "cell_type": "code",
   "execution_count": null,
   "metadata": {},
   "outputs": [],
   "source": []
  },
  {
   "cell_type": "code",
   "execution_count": null,
   "metadata": {},
   "outputs": [],
   "source": []
  },
  {
   "cell_type": "code",
   "execution_count": null,
   "metadata": {},
   "outputs": [],
   "source": []
  }
 ],
 "metadata": {
  "kernelspec": {
   "display_name": "Python 3",
   "language": "python",
   "name": "python3"
  },
  "language_info": {
   "codemirror_mode": {
    "name": "ipython",
    "version": 3
   },
   "file_extension": ".py",
   "mimetype": "text/x-python",
   "name": "python",
   "nbconvert_exporter": "python",
   "pygments_lexer": "ipython3",
   "version": "3.7.0"
  }
 },
 "nbformat": 4,
 "nbformat_minor": 2
}
