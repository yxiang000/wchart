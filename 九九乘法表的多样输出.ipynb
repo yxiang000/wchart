{
 "cells": [
  {
   "cell_type": "markdown",
   "metadata": {},
   "source": [
    "#### hello大家好，今天呢我们给大家分享下python中的循环结构\n",
    "#### 循环结构是各个语言不可或缺的结构语句，循环结构可以减少源程序重复书写的代码量\n",
    "#### 循环结构可以用来描述重复执行某段算法的问题，是程序设计中最能发挥计算机特长的程序结构\n",
    "#### python中循环结构分为俩类，分别是while和for..in"
   ]
  },
  {
   "cell_type": "markdown",
   "metadata": {},
   "source": [
    "### while循环语句格式：\n",
    "#### 格式一：\n",
    "    \n",
    "    num1,num2 = 3,5\n",
    "    while num1 < num2:\n",
    "        print('如果条件成立，会进入循环体，我所处的这块区域，就是循环体')\n",
    "        num1 += 1   #控制循环条件中的变量，否则进入死循环\n",
    "- 死循环： 死循环就是循环不会终止的循环类型，设置条件永远为True来实现，但非常占用资源\n",
    "\n",
    "#### 格式二：\n",
    "\n",
    "    num1,num2 = 3,5\n",
    "    while num1 < num2:\n",
    "        print('如果条件成立，会进入循环体')\n",
    "        num1 += 1\n",
    "    else:\n",
    "        print('条件不成立时，我会被输出')\n",
    "- while循环中的else是在while条件表达式为假的情况下执行的代码内容"
   ]
  },
  {
   "cell_type": "markdown",
   "metadata": {},
   "source": [
    "### for ... 循环语句格式\n",
    "- for 变量 in 容器：用于遍历容器类的数据(字符串，列表，元组，字典，集合)\n",
    "\n",
    "### 格式一\n",
    "\n",
    "    user_list = ['小明','小红','小强','小军']\n",
    "    for val in user_list:\n",
    "        print(val)\n",
    "\n",
    "### 格式二\n",
    "\n",
    "    data = ('a','alibaba'),('b','baidu'),('c','changhong')\n",
    "    for k,v in data:\n",
    "        print(k,'======>',v)\n",
    "\n",
    "##### 使用格式2请注意： 要求遍历的容器必须是以下几种格式\n",
    "\n",
    "    [(),(),()]    列表中有元组\n",
    "    [[],[],[]]    列表中有列表\n",
    "    ((),(),())    元组中有元组\n",
    "    {(),(),()}    集合中有元组\n",
    "    字典的特殊使用\n",
    "\n",
    "### 格式三\n",
    "\n",
    "    data = ('a','b','c','d','e')\n",
    "    for v in data:\n",
    "        print(v)\n",
    "    else:\n",
    "        print('我else区间又来啦！')\n",
    "\n",
    "- 循环结束时执行else区间的代码"
   ]
  },
  {
   "cell_type": "markdown",
   "metadata": {},
   "source": [
    "### 流程控制语句\n",
    "#### break\n",
    "    翻译：破坏，结束\n",
    "    作用：在循环中break的作用是终止当前循环结构的后续所有操作，一点程序运行了break，循环也就终止了。\n",
    "#### continue\n",
    "    翻译：继续\n",
    "    作用：在循环中continue的作用是跳过本次循环，开始下一次循环。continue执行之后本次循环的后续代码不再执行，直\n",
    "    接进入下一次循环\n",
    "#### pass\n",
    "    翻译：忽略\n",
    "    作用：pass是没有任何意义的空语句，主要用来占位用，避免语法错误。"
   ]
  },
  {
   "cell_type": "markdown",
   "metadata": {},
   "source": [
    "#### 哈哈哈哈~~~忽悠了这么多的格式，那我们具体来看一下怎么使用\n",
    "##### 本次案例我们就拿九九乘法表开刀，利用俩种循环结构打印各种姿势乘法表"
   ]
  },
  {
   "cell_type": "code",
   "execution_count": 2,
   "metadata": {},
   "outputs": [
    {
     "name": "stdout",
     "output_type": "stream",
     "text": [
      "1*1= 1\t\n",
      "1*2= 2\t2*2= 4\t\n",
      "1*3= 3\t2*3= 6\t3*3= 9\t\n",
      "1*4= 4\t2*4= 8\t3*4=12\t4*4=16\t\n",
      "1*5= 5\t2*5=10\t3*5=15\t4*5=20\t5*5=25\t\n",
      "1*6= 6\t2*6=12\t3*6=18\t4*6=24\t5*6=30\t6*6=36\t\n",
      "1*7= 7\t2*7=14\t3*7=21\t4*7=28\t5*7=35\t6*7=42\t7*7=49\t\n",
      "1*8= 8\t2*8=16\t3*8=24\t4*8=32\t5*8=40\t6*8=48\t7*8=56\t8*8=64\t\n",
      "1*9= 9\t2*9=18\t3*9=27\t4*9=36\t5*9=45\t6*9=54\t7*9=63\t8*9=72\t9*9=81\t\n"
     ]
    }
   ],
   "source": [
    "for i in range(1,10):    \n",
    "    \n",
    "    for j in range(1,i+1):\n",
    "\n",
    "        print('%d*%d=%2d\\t'%(j,i,i*j),end='')\n",
    "    print()"
   ]
  },
  {
   "cell_type": "code",
   "execution_count": 3,
   "metadata": {},
   "outputs": [
    {
     "name": "stdout",
     "output_type": "stream",
     "text": [
      "                                                                1*1= 1\t\n",
      "                                                        1*2= 2\t2*2= 4\t\n",
      "                                                1*3= 3\t2*3= 6\t3*3= 9\t\n",
      "                                        1*4= 4\t2*4= 8\t3*4=12\t4*4=16\t\n",
      "                                1*5= 5\t2*5=10\t3*5=15\t4*5=20\t5*5=25\t\n",
      "                        1*6= 6\t2*6=12\t3*6=18\t4*6=24\t5*6=30\t6*6=36\t\n",
      "                1*7= 7\t2*7=14\t3*7=21\t4*7=28\t5*7=35\t6*7=42\t7*7=49\t\n",
      "        1*8= 8\t2*8=16\t3*8=24\t4*8=32\t5*8=40\t6*8=48\t7*8=56\t8*8=64\t\n",
      "1*9= 9\t2*9=18\t3*9=27\t4*9=36\t5*9=45\t6*9=54\t7*9=63\t8*9=72\t9*9=81\t\n"
     ]
    }
   ],
   "source": [
    "for i in range(1,10):\n",
    "    for k in range(i+1,10):\n",
    "        print(end='        ')   #此处为返回八个空格，请注意\n",
    "    for j in range(1,i+1):\n",
    "        print('%d*%d=%2d\\t' % (j, i, i * j), end='')\n",
    "    print()"
   ]
  },
  {
   "cell_type": "code",
   "execution_count": 4,
   "metadata": {},
   "outputs": [
    {
     "name": "stdout",
     "output_type": "stream",
     "text": [
      "1*9= 9\t2*9=18\t3*9=27\t4*9=36\t5*9=45\t6*9=54\t7*9=63\t8*9=72\t9*9=81\t\n",
      "1*8= 8\t2*8=16\t3*8=24\t4*8=32\t5*8=40\t6*8=48\t7*8=56\t8*8=64\t\n",
      "1*7= 7\t2*7=14\t3*7=21\t4*7=28\t5*7=35\t6*7=42\t7*7=49\t\n",
      "1*6= 6\t2*6=12\t3*6=18\t4*6=24\t5*6=30\t6*6=36\t\n",
      "1*5= 5\t2*5=10\t3*5=15\t4*5=20\t5*5=25\t\n",
      "1*4= 4\t2*4= 8\t3*4=12\t4*4=16\t\n",
      "1*3= 3\t2*3= 6\t3*3= 9\t\n",
      "1*2= 2\t2*2= 4\t\n",
      "1*1= 1\t\n"
     ]
    }
   ],
   "source": [
    "for i in range(9,0,-1):\n",
    "    for j in range(1,i+1):\n",
    "        print('%d*%d=%2d\\t' % (j, i, i * j), end='')\n",
    "    print()   #此处的目的主要是利用print特性换行"
   ]
  },
  {
   "cell_type": "code",
   "execution_count": 5,
   "metadata": {},
   "outputs": [
    {
     "name": "stdout",
     "output_type": "stream",
     "text": [
      "1*9= 9\t1*8= 8\t1*7= 7\t1*6= 6\t1*5= 5\t1*4= 4\t1*3= 3\t1*2= 2\t1*1= 1\t\n",
      "        2*9=18\t2*8=16\t2*7=14\t2*6=12\t2*5=10\t2*4= 8\t2*3= 6\t2*2= 4\t\n",
      "                3*9=27\t3*8=24\t3*7=21\t3*6=18\t3*5=15\t3*4=12\t3*3= 9\t\n",
      "                        4*9=36\t4*8=32\t4*7=28\t4*6=24\t4*5=20\t4*4=16\t\n",
      "                                5*9=45\t5*8=40\t5*7=35\t5*6=30\t5*5=25\t\n",
      "                                        6*9=54\t6*8=48\t6*7=42\t6*6=36\t\n",
      "                                                7*9=63\t7*8=56\t7*7=49\t\n",
      "                                                        8*9=72\t8*8=64\t\n",
      "                                                                9*9=81\t\n"
     ]
    }
   ],
   "source": [
    "for i in range(1,10):\n",
    "    for k in range(1,i):\n",
    "        print(end='        ')    #此处返回八个空格\n",
    "    for j in range(9,i-1,-1):\n",
    "        print('%d*%d=%2d\\t' % (i, j, i * j), end='')\n",
    "    print()"
   ]
  },
  {
   "cell_type": "code",
   "execution_count": 6,
   "metadata": {},
   "outputs": [
    {
     "name": "stdout",
     "output_type": "stream",
     "text": [
      "1*1= 1\t\n",
      "2*1= 2\t2*2= 4\t\n",
      "3*1= 3\t3*2= 6\t3*3= 9\t\n",
      "4*1= 4\t4*2= 8\t4*3=12\t4*4=16\t\n",
      "5*1= 5\t5*2=10\t5*3=15\t5*4=20\t5*5=25\t\n",
      "6*1= 6\t6*2=12\t6*3=18\t6*4=24\t6*5=30\t6*6=36\t\n",
      "7*1= 7\t7*2=14\t7*3=21\t7*4=28\t7*5=35\t7*6=42\t7*7=49\t\n",
      "8*1= 8\t8*2=16\t8*3=24\t8*4=32\t8*5=40\t8*6=48\t8*7=56\t8*8=64\t\n",
      "9*1= 9\t9*2=18\t9*3=27\t9*4=36\t9*5=45\t9*6=54\t9*7=63\t9*8=72\t9*9=81\t\n"
     ]
    }
   ],
   "source": [
    "i = 1\n",
    "while i <=9:\n",
    "    j = 1\n",
    "    while j <= i:\n",
    "        print('%d*%d=%2d\\t'%(i,j,i*j),end='')\n",
    "        j+=1\n",
    "    print()\n",
    "    i +=1"
   ]
  },
  {
   "cell_type": "code",
   "execution_count": 7,
   "metadata": {},
   "outputs": [
    {
     "name": "stdout",
     "output_type": "stream",
     "text": [
      "                                                                1*1= 1\t\n",
      "                                                        1*2= 2\t2*2= 4\t\n",
      "                                                1*3= 3\t2*3= 6\t3*3= 9\t\n",
      "                                        1*4= 4\t2*4= 8\t3*4=12\t4*4=16\t\n",
      "                                1*5= 5\t2*5=10\t3*5=15\t4*5=20\t5*5=25\t\n",
      "                        1*6= 6\t2*6=12\t3*6=18\t4*6=24\t5*6=30\t6*6=36\t\n",
      "                1*7= 7\t2*7=14\t3*7=21\t4*7=28\t5*7=35\t6*7=42\t7*7=49\t\n",
      "        1*8= 8\t2*8=16\t3*8=24\t4*8=32\t5*8=40\t6*8=48\t7*8=56\t8*8=64\t\n",
      "1*9= 9\t2*9=18\t3*9=27\t4*9=36\t5*9=45\t6*9=54\t7*9=63\t8*9=72\t9*9=81\t\n"
     ]
    }
   ],
   "source": [
    "i = 1\n",
    "while i <= 9:\n",
    "    k = 9\n",
    "    while k >i:\n",
    "        print(end= '        ')     #此处为八个空格\n",
    "        k -= 1\n",
    "    j = 1\n",
    "    while j <= i:\n",
    "        print('%d*%d=%2d\\t'%(j,i,i*j),end='')\n",
    "        j +=1\n",
    "    print()\n",
    "    i +=1"
   ]
  },
  {
   "cell_type": "code",
   "execution_count": 8,
   "metadata": {},
   "outputs": [
    {
     "name": "stdout",
     "output_type": "stream",
     "text": [
      "1*9= 9\t2*9=18\t3*9=27\t4*9=36\t5*9=45\t6*9=54\t7*9=63\t8*9=72\t9*9=81\t\n",
      "1*8= 8\t2*8=16\t3*8=24\t4*8=32\t5*8=40\t6*8=48\t7*8=56\t8*8=64\t\n",
      "1*7= 7\t2*7=14\t3*7=21\t4*7=28\t5*7=35\t6*7=42\t7*7=49\t\n",
      "1*6= 6\t2*6=12\t3*6=18\t4*6=24\t5*6=30\t6*6=36\t\n",
      "1*5= 5\t2*5=10\t3*5=15\t4*5=20\t5*5=25\t\n",
      "1*4= 4\t2*4= 8\t3*4=12\t4*4=16\t\n",
      "1*3= 3\t2*3= 6\t3*3= 9\t\n",
      "1*2= 2\t2*2= 4\t\n",
      "1*1= 1\t\n"
     ]
    }
   ],
   "source": [
    "i = 9\n",
    "while i >= 1:\n",
    "    j = 1\n",
    "    while j <= i:\n",
    "        print('%d*%d=%2d\\t'%(j,i,i*j),end='')\n",
    "        j +=1\n",
    "    i -= 1\n",
    "    print()"
   ]
  },
  {
   "cell_type": "code",
   "execution_count": 9,
   "metadata": {},
   "outputs": [
    {
     "name": "stdout",
     "output_type": "stream",
     "text": [
      "1*9= 9\t2*9=18\t3*9=27\t4*9=36\t5*9=45\t6*9=54\t7*9=63\t8*9=72\t9*9=81\t\n",
      "        1*8= 8\t2*8=16\t3*8=24\t4*8=32\t5*8=40\t6*8=48\t7*8=56\t8*8=64\t\n",
      "                1*7= 7\t2*7=14\t3*7=21\t4*7=28\t5*7=35\t6*7=42\t7*7=49\t\n",
      "                        1*6= 6\t2*6=12\t3*6=18\t4*6=24\t5*6=30\t6*6=36\t\n",
      "                                1*5= 5\t2*5=10\t3*5=15\t4*5=20\t5*5=25\t\n",
      "                                        1*4= 4\t2*4= 8\t3*4=12\t4*4=16\t\n",
      "                                                1*3= 3\t2*3= 6\t3*3= 9\t\n",
      "                                                        1*2= 2\t2*2= 4\t\n",
      "                                                                1*1= 1\t\n"
     ]
    }
   ],
   "source": [
    "i = 9\n",
    "while i >= 1:\n",
    "    k = 9\n",
    "    while k > i:\n",
    "        print(end='        ')   #此处为八个空格\n",
    "        k -= 1\n",
    "    j = 1\n",
    "    while j <=i:\n",
    "        print('%d*%d=%2d\\t'%(j,i,i*j),end='')\n",
    "        j +=1\n",
    "\n",
    "    print()\n",
    "    i -= 1"
   ]
  },
  {
   "cell_type": "code",
   "execution_count": null,
   "metadata": {},
   "outputs": [],
   "source": []
  },
  {
   "cell_type": "code",
   "execution_count": null,
   "metadata": {},
   "outputs": [],
   "source": []
  }
 ],
 "metadata": {
  "kernelspec": {
   "display_name": "Python 3",
   "language": "python",
   "name": "python3"
  },
  "language_info": {
   "codemirror_mode": {
    "name": "ipython",
    "version": 3
   },
   "file_extension": ".py",
   "mimetype": "text/x-python",
   "name": "python",
   "nbconvert_exporter": "python",
   "pygments_lexer": "ipython3",
   "version": "3.7.0"
  }
 },
 "nbformat": 4,
 "nbformat_minor": 2
}
